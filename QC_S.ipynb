{
  "nbformat": 4,
  "nbformat_minor": 0,
  "metadata": {
    "colab": {
      "provenance": [],
      "authorship_tag": "ABX9TyOmt2Q3uVOdCI761YAAemgz",
      "include_colab_link": true
    },
    "kernelspec": {
      "name": "python3",
      "display_name": "Python 3"
    },
    "language_info": {
      "name": "python"
    }
  },
  "cells": [
    {
      "cell_type": "markdown",
      "metadata": {
        "id": "view-in-github",
        "colab_type": "text"
      },
      "source": [
        "<a href=\"https://colab.research.google.com/github/irenesubin/school_prj/blob/main/QC_S.ipynb\" target=\"_parent\"><img src=\"https://colab.research.google.com/assets/colab-badge.svg\" alt=\"Open In Colab\"/></a>"
      ]
    },
    {
      "cell_type": "code",
      "source": [
        "!pip install qiskit"
      ],
      "metadata": {
        "colab": {
          "base_uri": "https://localhost:8080/"
        },
        "id": "5Bf2O5740ohL",
        "outputId": "3b228c20-fa2c-4cd4-86dd-9eae44350037"
      },
      "execution_count": null,
      "outputs": [
        {
          "output_type": "stream",
          "name": "stdout",
          "text": [
            "Collecting qiskit\n",
            "  Downloading qiskit-0.34.2.tar.gz (13 kB)\n",
            "Collecting qiskit-terra==0.19.2\n",
            "  Downloading qiskit_terra-0.19.2-cp37-cp37m-manylinux_2_12_x86_64.manylinux2010_x86_64.whl (6.5 MB)\n",
            "\u001b[K     |████████████████████████████████| 6.5 MB 4.8 MB/s \n",
            "\u001b[?25hCollecting qiskit-aer==0.10.3\n",
            "  Downloading qiskit_aer-0.10.3-cp37-cp37m-manylinux_2_12_x86_64.manylinux2010_x86_64.whl (18.0 MB)\n",
            "\u001b[K     |████████████████████████████████| 18.0 MB 84 kB/s \n",
            "\u001b[?25hCollecting qiskit-ibmq-provider==0.18.3\n",
            "  Downloading qiskit_ibmq_provider-0.18.3-py3-none-any.whl (238 kB)\n",
            "\u001b[K     |████████████████████████████████| 238 kB 47.2 MB/s \n",
            "\u001b[?25hCollecting qiskit-ignis==0.7.0\n",
            "  Downloading qiskit_ignis-0.7.0-py3-none-any.whl (200 kB)\n",
            "\u001b[K     |████████████████████████████████| 200 kB 46.3 MB/s \n",
            "\u001b[?25hRequirement already satisfied: numpy>=1.16.3 in /usr/local/lib/python3.7/dist-packages (from qiskit-aer==0.10.3->qiskit) (1.19.5)\n",
            "Requirement already satisfied: scipy>=1.0 in /usr/local/lib/python3.7/dist-packages (from qiskit-aer==0.10.3->qiskit) (1.4.1)\n",
            "Requirement already satisfied: requests>=2.19 in /usr/local/lib/python3.7/dist-packages (from qiskit-ibmq-provider==0.18.3->qiskit) (2.23.0)\n",
            "Requirement already satisfied: urllib3>=1.21.1 in /usr/local/lib/python3.7/dist-packages (from qiskit-ibmq-provider==0.18.3->qiskit) (1.24.3)\n",
            "Collecting websocket-client>=1.0.1\n",
            "  Downloading websocket_client-1.2.3-py3-none-any.whl (53 kB)\n",
            "\u001b[K     |████████████████████████████████| 53 kB 1.5 MB/s \n",
            "\u001b[?25hRequirement already satisfied: python-dateutil>=2.8.0 in /usr/local/lib/python3.7/dist-packages (from qiskit-ibmq-provider==0.18.3->qiskit) (2.8.2)\n",
            "Collecting requests-ntlm>=1.1.0\n",
            "  Downloading requests_ntlm-1.1.0-py2.py3-none-any.whl (5.7 kB)\n",
            "Collecting retworkx>=0.8.0\n",
            "  Downloading retworkx-0.11.0-cp37-cp37m-manylinux_2_5_x86_64.manylinux1_x86_64.manylinux_2_12_x86_64.manylinux2010_x86_64.whl (1.6 MB)\n",
            "\u001b[K     |████████████████████████████████| 1.6 MB 39.6 MB/s \n",
            "\u001b[?25hRequirement already satisfied: setuptools>=40.1.0 in /usr/local/lib/python3.7/dist-packages (from qiskit-ignis==0.7.0->qiskit) (57.4.0)\n",
            "Collecting tweedledum<2.0,>=1.1\n",
            "  Downloading tweedledum-1.1.1-cp37-cp37m-manylinux_2_12_x86_64.manylinux2010_x86_64.whl (943 kB)\n",
            "\u001b[K     |████████████████████████████████| 943 kB 46.8 MB/s \n",
            "\u001b[?25hCollecting python-constraint>=1.4\n",
            "  Downloading python-constraint-1.4.0.tar.bz2 (18 kB)\n",
            "Collecting stevedore>=3.0.0\n",
            "  Downloading stevedore-3.5.0-py3-none-any.whl (49 kB)\n",
            "\u001b[K     |████████████████████████████████| 49 kB 5.1 MB/s \n",
            "\u001b[?25hRequirement already satisfied: dill>=0.3 in /usr/local/lib/python3.7/dist-packages (from qiskit-terra==0.19.2->qiskit) (0.3.4)\n",
            "Collecting scipy>=1.0\n",
            "  Downloading scipy-1.7.3-cp37-cp37m-manylinux_2_12_x86_64.manylinux2010_x86_64.whl (38.1 MB)\n",
            "\u001b[K     |████████████████████████████████| 38.1 MB 1.9 MB/s \n",
            "\u001b[?25hRequirement already satisfied: sympy>=1.3 in /usr/local/lib/python3.7/dist-packages (from qiskit-terra==0.19.2->qiskit) (1.7.1)\n",
            "Collecting symengine>=0.8\n",
            "  Downloading symengine-0.8.1-cp37-cp37m-manylinux2010_x86_64.whl (38.2 MB)\n",
            "\u001b[K     |████████████████████████████████| 38.2 MB 1.2 MB/s \n",
            "\u001b[?25hRequirement already satisfied: psutil>=5 in /usr/local/lib/python3.7/dist-packages (from qiskit-terra==0.19.2->qiskit) (5.4.8)\n",
            "Collecting ply>=3.10\n",
            "  Downloading ply-3.11-py2.py3-none-any.whl (49 kB)\n",
            "\u001b[K     |████████████████████████████████| 49 kB 4.7 MB/s \n",
            "\u001b[?25hRequirement already satisfied: six>=1.5 in /usr/local/lib/python3.7/dist-packages (from python-dateutil>=2.8.0->qiskit-ibmq-provider==0.18.3->qiskit) (1.15.0)\n",
            "Requirement already satisfied: chardet<4,>=3.0.2 in /usr/local/lib/python3.7/dist-packages (from requests>=2.19->qiskit-ibmq-provider==0.18.3->qiskit) (3.0.4)\n",
            "Requirement already satisfied: certifi>=2017.4.17 in /usr/local/lib/python3.7/dist-packages (from requests>=2.19->qiskit-ibmq-provider==0.18.3->qiskit) (2021.10.8)\n",
            "Requirement already satisfied: idna<3,>=2.5 in /usr/local/lib/python3.7/dist-packages (from requests>=2.19->qiskit-ibmq-provider==0.18.3->qiskit) (2.10)\n",
            "Collecting cryptography>=1.3\n",
            "  Downloading cryptography-36.0.1-cp36-abi3-manylinux_2_24_x86_64.whl (3.6 MB)\n",
            "\u001b[K     |████████████████████████████████| 3.6 MB 45.3 MB/s \n",
            "\u001b[?25hCollecting ntlm-auth>=1.0.2\n",
            "  Downloading ntlm_auth-1.5.0-py2.py3-none-any.whl (29 kB)\n",
            "Requirement already satisfied: cffi>=1.12 in /usr/local/lib/python3.7/dist-packages (from cryptography>=1.3->requests-ntlm>=1.1.0->qiskit-ibmq-provider==0.18.3->qiskit) (1.15.0)\n",
            "Requirement already satisfied: pycparser in /usr/local/lib/python3.7/dist-packages (from cffi>=1.12->cryptography>=1.3->requests-ntlm>=1.1.0->qiskit-ibmq-provider==0.18.3->qiskit) (2.21)\n",
            "Requirement already satisfied: importlib-metadata>=1.7.0 in /usr/local/lib/python3.7/dist-packages (from stevedore>=3.0.0->qiskit-terra==0.19.2->qiskit) (4.10.1)\n",
            "Collecting pbr!=2.1.0,>=2.0.0\n",
            "  Downloading pbr-5.8.1-py2.py3-none-any.whl (113 kB)\n",
            "\u001b[K     |████████████████████████████████| 113 kB 57.3 MB/s \n",
            "\u001b[?25hRequirement already satisfied: typing-extensions>=3.6.4 in /usr/local/lib/python3.7/dist-packages (from importlib-metadata>=1.7.0->stevedore>=3.0.0->qiskit-terra==0.19.2->qiskit) (3.10.0.2)\n",
            "Requirement already satisfied: zipp>=0.5 in /usr/local/lib/python3.7/dist-packages (from importlib-metadata>=1.7.0->stevedore>=3.0.0->qiskit-terra==0.19.2->qiskit) (3.7.0)\n",
            "Requirement already satisfied: mpmath>=0.19 in /usr/local/lib/python3.7/dist-packages (from sympy>=1.3->qiskit-terra==0.19.2->qiskit) (1.2.1)\n",
            "Building wheels for collected packages: qiskit, python-constraint\n",
            "  Building wheel for qiskit (setup.py) ... \u001b[?25l\u001b[?25hdone\n",
            "  Created wheel for qiskit: filename=qiskit-0.34.2-py3-none-any.whl size=11805 sha256=cc7d341257f6399fdf0ed7ffbf619fc9b106f5112aec7fa3e75a62004933bd58\n",
            "  Stored in directory: /root/.cache/pip/wheels/62/77/65/cda6eedfdd2a525bd3f479a4386930ae3088a1eb01f8c944ed\n",
            "  Building wheel for python-constraint (setup.py) ... \u001b[?25l\u001b[?25hdone\n",
            "  Created wheel for python-constraint: filename=python_constraint-1.4.0-py2.py3-none-any.whl size=24081 sha256=596dc1e508f1e0d2f3ed525ce664ca4cd50da74ee9005d11428caca630563f4f\n",
            "  Stored in directory: /root/.cache/pip/wheels/07/27/db/1222c80eb1e431f3d2199c12569cb1cac60f562a451fe30479\n",
            "Successfully built qiskit python-constraint\n",
            "Installing collected packages: pbr, tweedledum, symengine, stevedore, scipy, retworkx, python-constraint, ply, ntlm-auth, cryptography, websocket-client, requests-ntlm, qiskit-terra, qiskit-ignis, qiskit-ibmq-provider, qiskit-aer, qiskit\n",
            "  Attempting uninstall: scipy\n",
            "    Found existing installation: scipy 1.4.1\n",
            "    Uninstalling scipy-1.4.1:\n",
            "      Successfully uninstalled scipy-1.4.1\n",
            "\u001b[31mERROR: pip's dependency resolver does not currently take into account all the packages that are installed. This behaviour is the source of the following dependency conflicts.\n",
            "albumentations 0.1.12 requires imgaug<0.2.7,>=0.2.5, but you have imgaug 0.2.9 which is incompatible.\u001b[0m\n",
            "Successfully installed cryptography-36.0.1 ntlm-auth-1.5.0 pbr-5.8.1 ply-3.11 python-constraint-1.4.0 qiskit-0.34.2 qiskit-aer-0.10.3 qiskit-ibmq-provider-0.18.3 qiskit-ignis-0.7.0 qiskit-terra-0.19.2 requests-ntlm-1.1.0 retworkx-0.11.0 scipy-1.7.3 stevedore-3.5.0 symengine-0.8.1 tweedledum-1.1.1 websocket-client-1.2.3\n"
          ]
        }
      ]
    },
    {
      "cell_type": "code",
      "source": [
        "!pip install qiskit-nature"
      ],
      "metadata": {
        "id": "tO-XfpK50uGS"
      },
      "execution_count": null,
      "outputs": []
    },
    {
      "cell_type": "code",
      "source": [
        "!pip install pylatexenc"
      ],
      "metadata": {
        "colab": {
          "base_uri": "https://localhost:8080/"
        },
        "id": "_luN-TgyoAV0",
        "outputId": "67421a2b-d2c8-458f-b3d6-ee08a346c0bb"
      },
      "execution_count": null,
      "outputs": [
        {
          "output_type": "stream",
          "name": "stdout",
          "text": [
            "Collecting pylatexenc\n",
            "  Downloading pylatexenc-2.10.tar.gz (162 kB)\n",
            "\u001b[?25l\r\u001b[K     |██                              | 10 kB 21.0 MB/s eta 0:00:01\r\u001b[K     |████                            | 20 kB 11.1 MB/s eta 0:00:01\r\u001b[K     |██████                          | 30 kB 9.2 MB/s eta 0:00:01\r\u001b[K     |████████                        | 40 kB 8.3 MB/s eta 0:00:01\r\u001b[K     |██████████                      | 51 kB 5.0 MB/s eta 0:00:01\r\u001b[K     |████████████                    | 61 kB 5.2 MB/s eta 0:00:01\r\u001b[K     |██████████████                  | 71 kB 5.4 MB/s eta 0:00:01\r\u001b[K     |████████████████▏               | 81 kB 6.0 MB/s eta 0:00:01\r\u001b[K     |██████████████████▏             | 92 kB 4.6 MB/s eta 0:00:01\r\u001b[K     |████████████████████▏           | 102 kB 5.0 MB/s eta 0:00:01\r\u001b[K     |██████████████████████▏         | 112 kB 5.0 MB/s eta 0:00:01\r\u001b[K     |████████████████████████▏       | 122 kB 5.0 MB/s eta 0:00:01\r\u001b[K     |██████████████████████████▏     | 133 kB 5.0 MB/s eta 0:00:01\r\u001b[K     |████████████████████████████▏   | 143 kB 5.0 MB/s eta 0:00:01\r\u001b[K     |██████████████████████████████▎ | 153 kB 5.0 MB/s eta 0:00:01\r\u001b[K     |████████████████████████████████| 162 kB 5.0 MB/s \n",
            "\u001b[?25hBuilding wheels for collected packages: pylatexenc\n",
            "  Building wheel for pylatexenc (setup.py) ... \u001b[?25l\u001b[?25hdone\n",
            "  Created wheel for pylatexenc: filename=pylatexenc-2.10-py3-none-any.whl size=136835 sha256=81006311dcd2892649b1babcaf39b6102054e03e90b52c7d1bd1a088b2d5becc\n",
            "  Stored in directory: /root/.cache/pip/wheels/f1/8a/f5/33ee79d4473eb201b519fa40f989b842e373237395a3421f52\n",
            "Successfully built pylatexenc\n",
            "Installing collected packages: pylatexenc\n",
            "Successfully installed pylatexenc-2.10\n"
          ]
        }
      ]
    },
    {
      "cell_type": "code",
      "execution_count": null,
      "metadata": {
        "id": "XItEg3ul0jEv"
      },
      "outputs": [],
      "source": [
        "from qiskit_nature.problems.sampling.protein_folding.interactions.random_interaction import (\n",
        "    RandomInteraction,\n",
        ")\n",
        "from qiskit_nature.problems.sampling.protein_folding.interactions.miyazawa_jernigan_interaction import (\n",
        "    MiyazawaJerniganInteraction,\n",
        ")\n",
        "from qiskit_nature.problems.sampling.protein_folding.peptide.peptide import Peptide\n",
        "from qiskit_nature.problems.sampling.protein_folding.protein_folding_problem import (\n",
        "    ProteinFoldingProblem,\n",
        ")\n",
        "\n",
        "from qiskit_nature.problems.sampling.protein_folding.penalty_parameters import PenaltyParameters\n",
        "\n",
        "from qiskit.utils import algorithm_globals, QuantumInstance\n",
        "\n",
        "algorithm_globals.random_seed = 23"
      ]
    },
    {
      "cell_type": "code",
      "source": [
        "main_chain = \"APRLRFY\""
      ],
      "metadata": {
        "id": "-iNW_HjD1CyB"
      },
      "execution_count": null,
      "outputs": []
    },
    {
      "cell_type": "code",
      "source": [
        "side_chains = [\"\"] * 7"
      ],
      "metadata": {
        "id": "1G72tJgJ1EAY"
      },
      "execution_count": null,
      "outputs": []
    },
    {
      "cell_type": "code",
      "source": [
        "random_interaction = RandomInteraction()\n",
        "mj_interaction = MiyazawaJerniganInteraction()"
      ],
      "metadata": {
        "id": "8y7__xXL1Fgx"
      },
      "execution_count": null,
      "outputs": []
    },
    {
      "cell_type": "code",
      "source": [
        "penalty_back = 10\n",
        "penalty_chiral = 10\n",
        "penalty_1 = 10\n",
        "\n",
        "penalty_terms = PenaltyParameters(penalty_chiral, penalty_back, penalty_1)"
      ],
      "metadata": {
        "id": "97UtidpB1HV_"
      },
      "execution_count": null,
      "outputs": []
    },
    {
      "cell_type": "code",
      "source": [
        "peptide = Peptide(main_chain, side_chains)"
      ],
      "metadata": {
        "id": "zQuWzURC1JT1"
      },
      "execution_count": null,
      "outputs": []
    },
    {
      "cell_type": "code",
      "source": [
        "protein_folding_problem = ProteinFoldingProblem(peptide, mj_interaction, penalty_terms)\n",
        "qubit_op = protein_folding_problem.qubit_op()"
      ],
      "metadata": {
        "id": "b9Bb47dV1LEx"
      },
      "execution_count": null,
      "outputs": []
    },
    {
      "cell_type": "code",
      "source": [
        "from qiskit.circuit.library import RealAmplitudes\n",
        "from qiskit.algorithms.optimizers import COBYLA\n",
        "from qiskit.algorithms import NumPyMinimumEigensolver, VQE\n",
        "from qiskit.opflow import PauliExpectation, CVaRExpectation\n",
        "from qiskit import execute, Aer\n",
        "\n",
        "# set classical optimizer\n",
        "optimizer = COBYLA(maxiter=50)\n",
        "\n",
        "# set variational ansatz\n",
        "ansatz = RealAmplitudes(reps=1)\n",
        "\n",
        "# set the backend\n",
        "backend_name = \"aer_simulator\"\n",
        "backend = QuantumInstance(\n",
        "    Aer.get_backend(backend_name),\n",
        "    shots=8192,\n",
        "    seed_transpiler=algorithm_globals.random_seed,\n",
        "    seed_simulator=algorithm_globals.random_seed,\n",
        ")\n",
        "\n",
        "counts = []\n",
        "values = []\n",
        "\n",
        "\n",
        "def store_intermediate_result(eval_count, parameters, mean, std):\n",
        "    counts.append(eval_count)\n",
        "    values.append(mean)\n",
        "\n",
        "\n",
        "# initialize CVaR_alpha objective with alpha = 0.1\n",
        "cvar_exp = CVaRExpectation(0.1, PauliExpectation())\n",
        "\n",
        "# initialize VQE using CVaR\n",
        "vqe = VQE(\n",
        "    expectation=cvar_exp,\n",
        "    optimizer=optimizer,\n",
        "    ansatz=ansatz,\n",
        "    quantum_instance=backend,\n",
        "    callback=store_intermediate_result,\n",
        ")\n",
        "\n",
        "result = vqe.compute_minimum_eigenvalue(qubit_op)\n",
        "print(result)"
      ],
      "metadata": {
        "id": "u8U8xd-F1NKO"
      },
      "execution_count": null,
      "outputs": []
    },
    {
      "cell_type": "code",
      "source": [
        "import matplotlib.pyplot as plt\n",
        "\n",
        "fig = plt.figure()\n",
        "\n",
        "plt.plot(counts, values)\n",
        "plt.ylabel(\"Conformation Energy\")\n",
        "plt.xlabel(\"VQE Iterations\")\n",
        "\n",
        "fig.add_axes([0.44, 0.51, 0.44, 0.32])\n",
        "\n",
        "plt.plot(counts[40:], values[40:])\n",
        "plt.ylabel(\"Conformation Energy\")\n",
        "plt.xlabel(\"VQE Iterations\")\n",
        "plt.show()"
      ],
      "metadata": {
        "id": "9xfj-eFJ1Pk6"
      },
      "execution_count": null,
      "outputs": []
    },
    {
      "cell_type": "code",
      "source": [
        "main_chain = \"APRLRFDR\""
      ],
      "metadata": {
        "id": "17cOJNHx1vZK"
      },
      "execution_count": null,
      "outputs": []
    },
    {
      "cell_type": "code",
      "source": [
        "side_chains = [\"\"] * 8"
      ],
      "metadata": {
        "id": "On3vWcxo7kTK"
      },
      "execution_count": null,
      "outputs": []
    },
    {
      "cell_type": "code",
      "source": [
        "random_interaction = RandomInteraction()\n",
        "mj_interaction = MiyazawaJerniganInteraction()"
      ],
      "metadata": {
        "id": "O2eRC1Ny7moZ"
      },
      "execution_count": null,
      "outputs": []
    },
    {
      "cell_type": "code",
      "source": [
        "penalty_back = 10\n",
        "penalty_chiral = 10\n",
        "penalty_1 = 10\n",
        "penalty_terms = PenaltyParameters(penalty_chiral, penalty_back, penalty_1)"
      ],
      "metadata": {
        "id": "K7redLGP7ozj"
      },
      "execution_count": null,
      "outputs": []
    },
    {
      "cell_type": "code",
      "source": [
        "peptide = Peptide(main_chain, side_chains)"
      ],
      "metadata": {
        "id": "uKiRg50t7qXO"
      },
      "execution_count": null,
      "outputs": []
    },
    {
      "cell_type": "code",
      "source": [
        "protein_folding_problem = ProteinFoldingProblem(peptide, mj_interaction, penalty_terms)\n",
        "qubit_op = protein_folding_problem.qubit_op()"
      ],
      "metadata": {
        "id": "W1l082l37sOG"
      },
      "execution_count": null,
      "outputs": []
    },
    {
      "cell_type": "code",
      "source": [
        "from qiskit.circuit.library import EfficientSU2\n",
        "from qiskit.algorithms.optimizers import CG\n",
        "from qiskit.algorithms import NumPyMinimumEigensolver, VQE\n",
        "from qiskit.opflow import PauliExpectation, CVaRExpectation\n",
        "from qiskit import execute, Aer\n",
        "\n",
        "# set classical optimizer start\n",
        "optimizer = CG(maxiter=50)\n",
        "# set classical optimizer end\n",
        "\n",
        "# set variational ansatz start\n",
        "ansatz = EfficientSU2(reps=1)\n",
        "# set variational ansatz end\n",
        "\n",
        "\n",
        "# set the backend\n",
        "backend_name = \"aer_simulator\"\n",
        "backend = QuantumInstance(\n",
        "    Aer.get_backend(backend_name),\n",
        "    shots=8192,\n",
        "    seed_transpiler=algorithm_globals.random_seed,\n",
        "    seed_simulator=algorithm_globals.random_seed,\n",
        ")\n",
        "\n",
        "counts = []\n",
        "values = []\n",
        "\n",
        "\n",
        "def store_intermediate_result(eval_count, parameters, mean, std):\n",
        "    counts.append(eval_count)\n",
        "    values.append(mean)\n",
        "\n",
        "\n",
        "# initialize CVaR_alpha objective with alpha = 0.1\n",
        "cvar_exp = CVaRExpectation(0.1, PauliExpectation())\n",
        "\n",
        "# initialize VQE using CVaR\n",
        "vqe = VQE(\n",
        "    expectation=cvar_exp,\n",
        "    optimizer=optimizer,\n",
        "    ansatz=ansatz,\n",
        "    quantum_instance=backend,\n",
        "    callback=store_intermediate_result,\n",
        ")\n",
        "\n",
        "result = vqe.compute_minimum_eigenvalue(qubit_op)\n",
        "print(result)"
      ],
      "metadata": {
        "id": "m31zgPIo7zJe"
      },
      "execution_count": null,
      "outputs": []
    },
    {
      "cell_type": "code",
      "source": [
        "import matplotlib.pyplot as plt\n",
        "\n",
        "fig = plt.figure()\n",
        "\n",
        "plt.plot(counts, values)\n",
        "plt.ylabel(\"Conformation Energy\")\n",
        "plt.xlabel(\"VQE Iterations\")\n",
        "\n",
        "fig.add_axes([0.44, 0.51, 0.44, 0.32])\n",
        "\n",
        "plt.plot(counts[40:], values[40:])\n",
        "plt.ylabel(\"Conformation Energy\")\n",
        "plt.xlabel(\"VQE Iterations\")\n",
        "plt.show()"
      ],
      "metadata": {
        "id": "wmOX_nRfDahf"
      },
      "execution_count": null,
      "outputs": []
    },
    {
      "cell_type": "code",
      "source": [
        "print( \"Result:\", values[-1] )"
      ],
      "metadata": {
        "id": "h5WMIMScDb8h"
      },
      "execution_count": null,
      "outputs": []
    },
    {
      "cell_type": "code",
      "source": [
        "from qiskit import QuantumCircuit, QuantumRegister, ClassicalRegister, execute, Aer, IBMQ\n",
        "from qiskit.compiler import transpile, assemble\n",
        "from qiskit.tools.jupyter import *\n",
        "from qiskit.visualization import *"
      ],
      "metadata": {
        "id": "gtsM3IFqoPfn"
      },
      "execution_count": null,
      "outputs": []
    },
    {
      "cell_type": "code",
      "source": [
        "#q = QuantumRegister(2, 'q')\n",
        "#c = ClassicalRegister(3, 'c')\n",
        "circuit = QuantumCircuit(3,3)\n",
        "\n",
        "circuit.h(0)\n",
        "circuit.h(1)\n",
        "circuit.h(2)\n",
        "circuit.barrier()\n",
        "\n",
        "circuit.cx(0,1)\n",
        "circuit.x(2)\n",
        "circuit.cx(2,1)\n",
        "circuit.barrier()\n",
        "\n",
        "circuit.x(0)\n",
        "circuit.x(2)\n",
        "circuit.cx(2,0)\n",
        "circuit.barrier()\n",
        "\n",
        "circuit.x(1)\n",
        "circuit.x(0)\n",
        "circuit.cx(1,2)\n",
        "\n",
        "circuit.measure(0,0)\n",
        "circuit.measure(1,1)\n",
        "circuit.measure(2,2)\n",
        "circuit.draw('mpl')\n"
      ],
      "metadata": {
        "colab": {
          "base_uri": "https://localhost:8080/",
          "height": 231
        },
        "id": "6tFtuDGQoP3H",
        "outputId": "fe0e12c0-6003-48ef-beab-b2ae31dd41cb"
      },
      "execution_count": null,
      "outputs": [
        {
          "output_type": "execute_result",
          "data": {
            "image/png": "[encoded data removed]",
            "text/plain": [
              "<Figure size 869.197x264.88 with 1 Axes>"
            ]
          },
          "metadata": {},
          "execution_count": 22
        }
      ]
    },
    {
      "cell_type": "code",
      "source": [
        "simulator = Aer.get_backend('qasm_simulator')\n",
        "job = execute(circuit, backend = simulator, shots=1024)\n",
        "result = job.result()\n",
        "\n",
        "counts = result.get_counts(circuit)\n",
        "print(\"results:\", counts)\n",
        "\n",
        "from qiskit.tools.visualization import plot_histogram\n",
        "plot_histogram(counts)"
      ],
      "metadata": {
        "colab": {
          "base_uri": "https://localhost:8080/",
          "height": 378
        },
        "id": "_8VGPdvwx91s",
        "outputId": "deab741c-bd57-4097-85b5-a078533aaeda"
      },
      "execution_count": null,
      "outputs": [
        {
          "output_type": "stream",
          "name": "stdout",
          "text": [
            "results: {'101': 130, '001': 128, '111': 125, '011': 143, '000': 118, '010': 133, '110': 137, '100': 110}\n"
          ]
        },
        {
          "output_type": "execute_result",
          "data": {
            "image/png": "[encoded data removed]",
            "text/plain": [
              "<Figure size 504x360 with 1 Axes>"
            ]
          },
          "metadata": {},
          "execution_count": 23
        }
      ]
    },
    {
      "cell_type": "code",
      "source": [
        "mycircuit = QuantumCircuit(3, 3)\n",
        "\n",
        "mycircuit.h(0)\n",
        "mycircuit.h(1)\n",
        "mycircuit.h(2)\n",
        "\n",
        "#here, your code\n",
        "\n",
        "mycircuit.measure(0,0)\n",
        "mycircuit.measure(1,1)\n",
        "mycircuit.measure(2,2)\n",
        "\n",
        "mycircuit.draw('mpl')"
      ],
      "metadata": {
        "colab": {
          "base_uri": "https://localhost:8080/",
          "height": 231
        },
        "id": "XM0eycXIqjld",
        "outputId": "93d72cb0-1750-45ab-fd7f-e856a7443816"
      },
      "execution_count": null,
      "outputs": [
        {
          "output_type": "execute_result",
          "data": {
            "image/png": "[encoded data removed]",
            "text/plain": [
              "<Figure size 327.397x264.88 with 1 Axes>"
            ]
          },
          "metadata": {},
          "execution_count": 24
        }
      ]
    },
    {
      "cell_type": "code",
      "source": [],
      "metadata": {
        "id": "-mCcuLfoqkHD"
      },
      "execution_count": null,
      "outputs": []
    },
    {
      "cell_type": "code",
      "source": [],
      "metadata": {
        "id": "3cReWxNTqkfy"
      },
      "execution_count": null,
      "outputs": []
    }
  ]
}