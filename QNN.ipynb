{
  "nbformat": 4,
  "nbformat_minor": 0,
  "metadata": {
    "colab": {
      "provenance": [],
      "authorship_tag": "ABX9TyNrKWeiu4G1hPm0q/pczPfE",
      "include_colab_link": true
    },
    "kernelspec": {
      "name": "python3",
      "display_name": "Python 3"
    },
    "language_info": {
      "name": "python"
    }
  },
  "cells": [
    {
      "cell_type": "markdown",
      "metadata": {
        "id": "view-in-github",
        "colab_type": "text"
      },
      "source": [
        "<a href=\"https://colab.research.google.com/github/irenesubin/school_prj/blob/main/QNN.ipynb\" target=\"_parent\"><img src=\"https://colab.research.google.com/assets/colab-badge.svg\" alt=\"Open In Colab\"/></a>"
      ]
    },
    {
      "cell_type": "code",
      "source": [
        "!pip install qiskit-algorithms\n",
        "!pip install qiskit qiskit-machine-learning"
      ],
      "metadata": {
        "colab": {
          "base_uri": "https://localhost:8080/"
        },
        "id": "28mIQTjZsPvL",
        "outputId": "64f0d8e8-88d5-451b-f29a-659a339fce70"
      },
      "execution_count": null,
      "outputs": [
        {
          "output_type": "stream",
          "name": "stdout",
          "text": [
            "Requirement already satisfied: qiskit-algorithms in /usr/local/lib/python3.10/dist-packages (0.3.1)\n",
            "Requirement already satisfied: qiskit>=0.44 in /usr/local/lib/python3.10/dist-packages (from qiskit-algorithms) (1.3.1)\n",
            "Requirement already satisfied: scipy>=1.4 in /usr/local/lib/python3.10/dist-packages (from qiskit-algorithms) (1.13.1)\n",
            "Requirement already satisfied: numpy>=1.17 in /usr/local/lib/python3.10/dist-packages (from qiskit-algorithms) (1.24.3)\n",
            "Requirement already satisfied: rustworkx>=0.15.0 in /usr/local/lib/python3.10/dist-packages (from qiskit>=0.44->qiskit-algorithms) (0.15.1)\n",
            "Requirement already satisfied: sympy>=1.3 in /usr/local/lib/python3.10/dist-packages (from qiskit>=0.44->qiskit-algorithms) (1.13.1)\n",
            "Requirement already satisfied: dill>=0.3 in /usr/local/lib/python3.10/dist-packages (from qiskit>=0.44->qiskit-algorithms) (0.3.9)\n",
            "Requirement already satisfied: python-dateutil>=2.8.0 in /usr/local/lib/python3.10/dist-packages (from qiskit>=0.44->qiskit-algorithms) (2.9.0.post0)\n",
            "Requirement already satisfied: stevedore>=3.0.0 in /usr/local/lib/python3.10/dist-packages (from qiskit>=0.44->qiskit-algorithms) (5.4.0)\n",
            "Requirement already satisfied: typing-extensions in /usr/local/lib/python3.10/dist-packages (from qiskit>=0.44->qiskit-algorithms) (4.5.0)\n",
            "Requirement already satisfied: symengine<0.14,>=0.11 in /usr/local/lib/python3.10/dist-packages (from qiskit>=0.44->qiskit-algorithms) (0.13.0)\n",
            "Requirement already satisfied: six>=1.5 in /usr/local/lib/python3.10/dist-packages (from python-dateutil>=2.8.0->qiskit>=0.44->qiskit-algorithms) (1.17.0)\n",
            "Requirement already satisfied: pbr>=2.0.0 in /usr/local/lib/python3.10/dist-packages (from stevedore>=3.0.0->qiskit>=0.44->qiskit-algorithms) (6.1.0)\n",
            "Requirement already satisfied: mpmath<1.4,>=1.1.0 in /usr/local/lib/python3.10/dist-packages (from sympy>=1.3->qiskit>=0.44->qiskit-algorithms) (1.3.0)\n",
            "Requirement already satisfied: qiskit in /usr/local/lib/python3.10/dist-packages (1.3.1)\n",
            "Requirement already satisfied: qiskit-machine-learning in /usr/local/lib/python3.10/dist-packages (0.8.1)\n",
            "Requirement already satisfied: rustworkx>=0.15.0 in /usr/local/lib/python3.10/dist-packages (from qiskit) (0.15.1)\n",
            "Requirement already satisfied: numpy<3,>=1.17 in /usr/local/lib/python3.10/dist-packages (from qiskit) (1.24.3)\n",
            "Requirement already satisfied: scipy>=1.5 in /usr/local/lib/python3.10/dist-packages (from qiskit) (1.13.1)\n",
            "Requirement already satisfied: sympy>=1.3 in /usr/local/lib/python3.10/dist-packages (from qiskit) (1.13.1)\n",
            "Requirement already satisfied: dill>=0.3 in /usr/local/lib/python3.10/dist-packages (from qiskit) (0.3.9)\n",
            "Requirement already satisfied: python-dateutil>=2.8.0 in /usr/local/lib/python3.10/dist-packages (from qiskit) (2.9.0.post0)\n",
            "Requirement already satisfied: stevedore>=3.0.0 in /usr/local/lib/python3.10/dist-packages (from qiskit) (5.4.0)\n",
            "Requirement already satisfied: typing-extensions in /usr/local/lib/python3.10/dist-packages (from qiskit) (4.5.0)\n",
            "Requirement already satisfied: symengine<0.14,>=0.11 in /usr/local/lib/python3.10/dist-packages (from qiskit) (0.13.0)\n",
            "Requirement already satisfied: psutil>=5 in /usr/local/lib/python3.10/dist-packages (from qiskit-machine-learning) (5.9.5)\n",
            "Requirement already satisfied: scikit-learn>=1.2 in /usr/local/lib/python3.10/dist-packages (from qiskit-machine-learning) (1.6.0)\n",
            "Requirement already satisfied: setuptools>=40.1 in /usr/local/lib/python3.10/dist-packages (from qiskit-machine-learning) (75.1.0)\n",
            "Requirement already satisfied: six>=1.5 in /usr/local/lib/python3.10/dist-packages (from python-dateutil>=2.8.0->qiskit) (1.17.0)\n",
            "Requirement already satisfied: joblib>=1.2.0 in /usr/local/lib/python3.10/dist-packages (from scikit-learn>=1.2->qiskit-machine-learning) (1.4.2)\n",
            "Requirement already satisfied: threadpoolctl>=3.1.0 in /usr/local/lib/python3.10/dist-packages (from scikit-learn>=1.2->qiskit-machine-learning) (3.5.0)\n",
            "Requirement already satisfied: pbr>=2.0.0 in /usr/local/lib/python3.10/dist-packages (from stevedore>=3.0.0->qiskit) (6.1.0)\n",
            "Requirement already satisfied: mpmath<1.4,>=1.1.0 in /usr/local/lib/python3.10/dist-packages (from sympy>=1.3->qiskit) (1.3.0)\n"
          ]
        }
      ]
    },
    {
      "cell_type": "code",
      "source": [],
      "metadata": {
        "id": "Qynwb6OeLo0s"
      },
      "execution_count": null,
      "outputs": []
    },
    {
      "cell_type": "code",
      "source": [
        "!pip install qiskit qiskit-machine-learning matplotlib"
      ],
      "metadata": {
        "colab": {
          "base_uri": "https://localhost:8080/"
        },
        "id": "R43iMalFvFeR",
        "outputId": "e28dbb22-43fb-4bd3-915d-ff2ae7575730"
      },
      "execution_count": null,
      "outputs": [
        {
          "output_type": "stream",
          "name": "stdout",
          "text": [
            "Requirement already satisfied: qiskit in /usr/local/lib/python3.10/dist-packages (1.3.1)\n",
            "Requirement already satisfied: qiskit-machine-learning in /usr/local/lib/python3.10/dist-packages (0.8.1)\n",
            "Requirement already satisfied: matplotlib in /usr/local/lib/python3.10/dist-packages (3.10.0)\n",
            "Requirement already satisfied: rustworkx>=0.15.0 in /usr/local/lib/python3.10/dist-packages (from qiskit) (0.15.1)\n",
            "Requirement already satisfied: numpy<3,>=1.17 in /usr/local/lib/python3.10/dist-packages (from qiskit) (1.24.3)\n",
            "Requirement already satisfied: scipy>=1.5 in /usr/local/lib/python3.10/dist-packages (from qiskit) (1.13.1)\n",
            "Requirement already satisfied: sympy>=1.3 in /usr/local/lib/python3.10/dist-packages (from qiskit) (1.13.1)\n",
            "Requirement already satisfied: dill>=0.3 in /usr/local/lib/python3.10/dist-packages (from qiskit) (0.3.9)\n",
            "Requirement already satisfied: python-dateutil>=2.8.0 in /usr/local/lib/python3.10/dist-packages (from qiskit) (2.9.0.post0)\n",
            "Requirement already satisfied: stevedore>=3.0.0 in /usr/local/lib/python3.10/dist-packages (from qiskit) (5.4.0)\n",
            "Requirement already satisfied: typing-extensions in /usr/local/lib/python3.10/dist-packages (from qiskit) (4.5.0)\n",
            "Requirement already satisfied: symengine<0.14,>=0.11 in /usr/local/lib/python3.10/dist-packages (from qiskit) (0.13.0)\n",
            "Requirement already satisfied: psutil>=5 in /usr/local/lib/python3.10/dist-packages (from qiskit-machine-learning) (5.9.5)\n",
            "Requirement already satisfied: scikit-learn>=1.2 in /usr/local/lib/python3.10/dist-packages (from qiskit-machine-learning) (1.6.0)\n",
            "Requirement already satisfied: setuptools>=40.1 in /usr/local/lib/python3.10/dist-packages (from qiskit-machine-learning) (75.1.0)\n",
            "Requirement already satisfied: contourpy>=1.0.1 in /usr/local/lib/python3.10/dist-packages (from matplotlib) (1.3.1)\n",
            "Requirement already satisfied: cycler>=0.10 in /usr/local/lib/python3.10/dist-packages (from matplotlib) (0.12.1)\n",
            "Requirement already satisfied: fonttools>=4.22.0 in /usr/local/lib/python3.10/dist-packages (from matplotlib) (4.55.3)\n",
            "Requirement already satisfied: kiwisolver>=1.3.1 in /usr/local/lib/python3.10/dist-packages (from matplotlib) (1.4.7)\n",
            "Requirement already satisfied: packaging>=20.0 in /usr/local/lib/python3.10/dist-packages (from matplotlib) (24.2)\n",
            "Requirement already satisfied: pillow>=8 in /usr/local/lib/python3.10/dist-packages (from matplotlib) (11.0.0)\n",
            "Requirement already satisfied: pyparsing>=2.3.1 in /usr/local/lib/python3.10/dist-packages (from matplotlib) (3.2.0)\n",
            "Requirement already satisfied: six>=1.5 in /usr/local/lib/python3.10/dist-packages (from python-dateutil>=2.8.0->qiskit) (1.17.0)\n",
            "Requirement already satisfied: joblib>=1.2.0 in /usr/local/lib/python3.10/dist-packages (from scikit-learn>=1.2->qiskit-machine-learning) (1.4.2)\n",
            "Requirement already satisfied: threadpoolctl>=3.1.0 in /usr/local/lib/python3.10/dist-packages (from scikit-learn>=1.2->qiskit-machine-learning) (3.5.0)\n",
            "Requirement already satisfied: pbr>=2.0.0 in /usr/local/lib/python3.10/dist-packages (from stevedore>=3.0.0->qiskit) (6.1.0)\n",
            "Requirement already satisfied: mpmath<1.4,>=1.1.0 in /usr/local/lib/python3.10/dist-packages (from sympy>=1.3->qiskit) (1.3.0)\n"
          ]
        }
      ]
    },
    {
      "cell_type": "code",
      "source": [
        "!pip install --upgrade tensorflow"
      ],
      "metadata": {
        "colab": {
          "base_uri": "https://localhost:8080/"
        },
        "id": "1w_6e8zG5Ku_",
        "outputId": "573c99bc-52ac-4327-cd07-0df2a4fff6e9"
      },
      "execution_count": null,
      "outputs": [
        {
          "output_type": "stream",
          "name": "stdout",
          "text": [
            "Requirement already satisfied: tensorflow in /usr/local/lib/python3.10/dist-packages (2.13.0)\n",
            "Collecting tensorflow\n",
            "  Downloading tensorflow-2.18.0-cp310-cp310-manylinux_2_17_x86_64.manylinux2014_x86_64.whl.metadata (4.1 kB)\n",
            "Requirement already satisfied: absl-py>=1.0.0 in /usr/local/lib/python3.10/dist-packages (from tensorflow) (1.4.0)\n",
            "Requirement already satisfied: astunparse>=1.6.0 in /usr/local/lib/python3.10/dist-packages (from tensorflow) (1.6.3)\n",
            "Requirement already satisfied: flatbuffers>=24.3.25 in /usr/local/lib/python3.10/dist-packages (from tensorflow) (24.3.25)\n",
            "Requirement already satisfied: gast!=0.5.0,!=0.5.1,!=0.5.2,>=0.2.1 in /usr/local/lib/python3.10/dist-packages (from tensorflow) (0.4.0)\n",
            "Requirement already satisfied: google-pasta>=0.1.1 in /usr/local/lib/python3.10/dist-packages (from tensorflow) (0.2.0)\n",
            "Requirement already satisfied: libclang>=13.0.0 in /usr/local/lib/python3.10/dist-packages (from tensorflow) (18.1.1)\n",
            "Requirement already satisfied: opt-einsum>=2.3.2 in /usr/local/lib/python3.10/dist-packages (from tensorflow) (3.4.0)\n",
            "Requirement already satisfied: packaging in /usr/local/lib/python3.10/dist-packages (from tensorflow) (24.2)\n",
            "Requirement already satisfied: protobuf!=4.21.0,!=4.21.1,!=4.21.2,!=4.21.3,!=4.21.4,!=4.21.5,<6.0.0dev,>=3.20.3 in /usr/local/lib/python3.10/dist-packages (from tensorflow) (4.25.5)\n",
            "Requirement already satisfied: requests<3,>=2.21.0 in /usr/local/lib/python3.10/dist-packages (from tensorflow) (2.32.3)\n",
            "Requirement already satisfied: setuptools in /usr/local/lib/python3.10/dist-packages (from tensorflow) (75.1.0)\n",
            "Requirement already satisfied: six>=1.12.0 in /usr/local/lib/python3.10/dist-packages (from tensorflow) (1.17.0)\n",
            "Requirement already satisfied: termcolor>=1.1.0 in /usr/local/lib/python3.10/dist-packages (from tensorflow) (2.5.0)\n",
            "Requirement already satisfied: typing-extensions>=3.6.6 in /usr/local/lib/python3.10/dist-packages (from tensorflow) (4.5.0)\n",
            "Requirement already satisfied: wrapt>=1.11.0 in /usr/local/lib/python3.10/dist-packages (from tensorflow) (1.17.0)\n",
            "Requirement already satisfied: grpcio<2.0,>=1.24.3 in /usr/local/lib/python3.10/dist-packages (from tensorflow) (1.68.1)\n",
            "Collecting tensorboard<2.19,>=2.18 (from tensorflow)\n",
            "  Downloading tensorboard-2.18.0-py3-none-any.whl.metadata (1.6 kB)\n",
            "Collecting keras>=3.5.0 (from tensorflow)\n",
            "  Downloading keras-3.7.0-py3-none-any.whl.metadata (5.8 kB)\n",
            "Collecting numpy<2.1.0,>=1.26.0 (from tensorflow)\n",
            "  Downloading numpy-2.0.2-cp310-cp310-manylinux_2_17_x86_64.manylinux2014_x86_64.whl.metadata (60 kB)\n",
            "\u001b[2K     \u001b[90m━━━━━━━━━━━━━━━━━━━━━━━━━━━━━━━━━━━━━━━━\u001b[0m \u001b[32m60.9/60.9 kB\u001b[0m \u001b[31m1.4 MB/s\u001b[0m eta \u001b[36m0:00:00\u001b[0m\n",
            "\u001b[?25hRequirement already satisfied: h5py>=3.11.0 in /usr/local/lib/python3.10/dist-packages (from tensorflow) (3.12.1)\n",
            "Requirement already satisfied: ml-dtypes<0.5.0,>=0.4.0 in /usr/local/lib/python3.10/dist-packages (from tensorflow) (0.4.1)\n",
            "Requirement already satisfied: tensorflow-io-gcs-filesystem>=0.23.1 in /usr/local/lib/python3.10/dist-packages (from tensorflow) (0.37.1)\n",
            "Requirement already satisfied: wheel<1.0,>=0.23.0 in /usr/local/lib/python3.10/dist-packages (from astunparse>=1.6.0->tensorflow) (0.45.1)\n",
            "Requirement already satisfied: rich in /usr/local/lib/python3.10/dist-packages (from keras>=3.5.0->tensorflow) (13.9.4)\n",
            "Requirement already satisfied: namex in /usr/local/lib/python3.10/dist-packages (from keras>=3.5.0->tensorflow) (0.0.8)\n",
            "Requirement already satisfied: optree in /usr/local/lib/python3.10/dist-packages (from keras>=3.5.0->tensorflow) (0.13.1)\n",
            "Requirement already satisfied: charset-normalizer<4,>=2 in /usr/local/lib/python3.10/dist-packages (from requests<3,>=2.21.0->tensorflow) (3.4.0)\n",
            "Requirement already satisfied: idna<4,>=2.5 in /usr/local/lib/python3.10/dist-packages (from requests<3,>=2.21.0->tensorflow) (3.10)\n",
            "Requirement already satisfied: urllib3<3,>=1.21.1 in /usr/local/lib/python3.10/dist-packages (from requests<3,>=2.21.0->tensorflow) (2.2.3)\n",
            "Requirement already satisfied: certifi>=2017.4.17 in /usr/local/lib/python3.10/dist-packages (from requests<3,>=2.21.0->tensorflow) (2024.12.14)\n",
            "Requirement already satisfied: markdown>=2.6.8 in /usr/local/lib/python3.10/dist-packages (from tensorboard<2.19,>=2.18->tensorflow) (3.7)\n",
            "Requirement already satisfied: tensorboard-data-server<0.8.0,>=0.7.0 in /usr/local/lib/python3.10/dist-packages (from tensorboard<2.19,>=2.18->tensorflow) (0.7.2)\n",
            "Requirement already satisfied: werkzeug>=1.0.1 in /usr/local/lib/python3.10/dist-packages (from tensorboard<2.19,>=2.18->tensorflow) (3.1.3)\n",
            "Requirement already satisfied: MarkupSafe>=2.1.1 in /usr/local/lib/python3.10/dist-packages (from werkzeug>=1.0.1->tensorboard<2.19,>=2.18->tensorflow) (3.0.2)\n",
            "Requirement already satisfied: markdown-it-py>=2.2.0 in /usr/local/lib/python3.10/dist-packages (from rich->keras>=3.5.0->tensorflow) (3.0.0)\n",
            "Requirement already satisfied: pygments<3.0.0,>=2.13.0 in /usr/local/lib/python3.10/dist-packages (from rich->keras>=3.5.0->tensorflow) (2.18.0)\n",
            "Requirement already satisfied: mdurl~=0.1 in /usr/local/lib/python3.10/dist-packages (from markdown-it-py>=2.2.0->rich->keras>=3.5.0->tensorflow) (0.1.2)\n",
            "Downloading tensorflow-2.18.0-cp310-cp310-manylinux_2_17_x86_64.manylinux2014_x86_64.whl (615.3 MB)\n",
            "\u001b[2K   \u001b[90m━━━━━━━━━━━━━━━━━━━━━━━━━━━━━━━━━━━━━━━━\u001b[0m \u001b[32m615.3/615.3 MB\u001b[0m \u001b[31m3.0 MB/s\u001b[0m eta \u001b[36m0:00:00\u001b[0m\n",
            "\u001b[?25hDownloading keras-3.7.0-py3-none-any.whl (1.2 MB)\n",
            "\u001b[2K   \u001b[90m━━━━━━━━━━━━━━━━━━━━━━━━━━━━━━━━━━━━━━━━\u001b[0m \u001b[32m1.2/1.2 MB\u001b[0m \u001b[31m41.4 MB/s\u001b[0m eta \u001b[36m0:00:00\u001b[0m\n",
            "\u001b[?25hDownloading numpy-2.0.2-cp310-cp310-manylinux_2_17_x86_64.manylinux2014_x86_64.whl (19.5 MB)\n",
            "\u001b[2K   \u001b[90m━━━━━━━━━━━━━━━━━━━━━━━━━━━━━━━━━━━━━━━━\u001b[0m \u001b[32m19.5/19.5 MB\u001b[0m \u001b[31m39.1 MB/s\u001b[0m eta \u001b[36m0:00:00\u001b[0m\n",
            "\u001b[?25hDownloading tensorboard-2.18.0-py3-none-any.whl (5.5 MB)\n",
            "\u001b[2K   \u001b[90m━━━━━━━━━━━━━━━━━━━━━━━━━━━━━━━━━━━━━━━━\u001b[0m \u001b[32m5.5/5.5 MB\u001b[0m \u001b[31m61.3 MB/s\u001b[0m eta \u001b[36m0:00:00\u001b[0m\n",
            "\u001b[?25hInstalling collected packages: numpy, tensorboard, keras, tensorflow\n",
            "  Attempting uninstall: numpy\n",
            "    Found existing installation: numpy 1.24.3\n",
            "    Uninstalling numpy-1.24.3:\n",
            "      Successfully uninstalled numpy-1.24.3\n",
            "  Attempting uninstall: tensorboard\n",
            "    Found existing installation: tensorboard 2.13.0\n",
            "    Uninstalling tensorboard-2.13.0:\n",
            "      Successfully uninstalled tensorboard-2.13.0\n",
            "  Attempting uninstall: keras\n",
            "    Found existing installation: keras 2.13.1\n",
            "    Uninstalling keras-2.13.1:\n",
            "      Successfully uninstalled keras-2.13.1\n",
            "  Attempting uninstall: tensorflow\n",
            "    Found existing installation: tensorflow 2.13.0\n",
            "    Uninstalling tensorflow-2.13.0:\n",
            "      Successfully uninstalled tensorflow-2.13.0\n",
            "\u001b[31mERROR: pip's dependency resolver does not currently take into account all the packages that are installed. This behaviour is the source of the following dependency conflicts.\n",
            "cupy-cuda12x 12.2.0 requires numpy<1.27,>=1.20, but you have numpy 2.0.2 which is incompatible.\n",
            "gensim 4.3.3 requires numpy<2.0,>=1.18.5, but you have numpy 2.0.2 which is incompatible.\n",
            "langchain 0.3.12 requires numpy<2,>=1.22.4; python_version < \"3.12\", but you have numpy 2.0.2 which is incompatible.\n",
            "nibabel 5.3.2 requires typing-extensions>=4.6; python_version < \"3.13\", but you have typing-extensions 4.5.0 which is incompatible.\n",
            "pytensor 2.26.4 requires numpy<2,>=1.17.0, but you have numpy 2.0.2 which is incompatible.\n",
            "tf-keras 2.17.0 requires tensorflow<2.18,>=2.17, but you have tensorflow 2.18.0 which is incompatible.\n",
            "thinc 8.2.5 requires numpy<2.0.0,>=1.19.0; python_version >= \"3.9\", but you have numpy 2.0.2 which is incompatible.\u001b[0m\u001b[31m\n",
            "\u001b[0mSuccessfully installed keras-3.7.0 numpy-2.0.2 tensorboard-2.18.0 tensorflow-2.18.0\n"
          ]
        }
      ]
    },
    {
      "cell_type": "code",
      "source": [
        "!pip install --upgrade qiskit-machine-learning"
      ],
      "metadata": {
        "colab": {
          "base_uri": "https://localhost:8080/"
        },
        "id": "uH5gocng6eWB",
        "outputId": "e2acd859-eea2-4e9f-cf1e-f24f9c79439d"
      },
      "execution_count": null,
      "outputs": [
        {
          "output_type": "stream",
          "name": "stdout",
          "text": [
            "Requirement already satisfied: qiskit-machine-learning in /usr/local/lib/python3.10/dist-packages (0.8.1)\n",
            "Requirement already satisfied: qiskit>=1.0 in /usr/local/lib/python3.10/dist-packages (from qiskit-machine-learning) (1.3.1)\n",
            "Requirement already satisfied: scipy>=1.4 in /usr/local/lib/python3.10/dist-packages (from qiskit-machine-learning) (1.13.1)\n",
            "Requirement already satisfied: numpy>=1.17 in /usr/local/lib/python3.10/dist-packages (from qiskit-machine-learning) (2.0.2)\n",
            "Requirement already satisfied: psutil>=5 in /usr/local/lib/python3.10/dist-packages (from qiskit-machine-learning) (5.9.5)\n",
            "Requirement already satisfied: scikit-learn>=1.2 in /usr/local/lib/python3.10/dist-packages (from qiskit-machine-learning) (1.6.0)\n",
            "Requirement already satisfied: setuptools>=40.1 in /usr/local/lib/python3.10/dist-packages (from qiskit-machine-learning) (75.1.0)\n",
            "Requirement already satisfied: dill>=0.3.4 in /usr/local/lib/python3.10/dist-packages (from qiskit-machine-learning) (0.3.9)\n",
            "Requirement already satisfied: rustworkx>=0.15.0 in /usr/local/lib/python3.10/dist-packages (from qiskit>=1.0->qiskit-machine-learning) (0.15.1)\n",
            "Requirement already satisfied: sympy>=1.3 in /usr/local/lib/python3.10/dist-packages (from qiskit>=1.0->qiskit-machine-learning) (1.13.1)\n",
            "Requirement already satisfied: python-dateutil>=2.8.0 in /usr/local/lib/python3.10/dist-packages (from qiskit>=1.0->qiskit-machine-learning) (2.9.0.post0)\n",
            "Requirement already satisfied: stevedore>=3.0.0 in /usr/local/lib/python3.10/dist-packages (from qiskit>=1.0->qiskit-machine-learning) (5.4.0)\n",
            "Requirement already satisfied: typing-extensions in /usr/local/lib/python3.10/dist-packages (from qiskit>=1.0->qiskit-machine-learning) (4.5.0)\n",
            "Requirement already satisfied: symengine<0.14,>=0.11 in /usr/local/lib/python3.10/dist-packages (from qiskit>=1.0->qiskit-machine-learning) (0.13.0)\n",
            "Requirement already satisfied: joblib>=1.2.0 in /usr/local/lib/python3.10/dist-packages (from scikit-learn>=1.2->qiskit-machine-learning) (1.4.2)\n",
            "Requirement already satisfied: threadpoolctl>=3.1.0 in /usr/local/lib/python3.10/dist-packages (from scikit-learn>=1.2->qiskit-machine-learning) (3.5.0)\n",
            "Requirement already satisfied: six>=1.5 in /usr/local/lib/python3.10/dist-packages (from python-dateutil>=2.8.0->qiskit>=1.0->qiskit-machine-learning) (1.17.0)\n",
            "Requirement already satisfied: pbr>=2.0.0 in /usr/local/lib/python3.10/dist-packages (from stevedore>=3.0.0->qiskit>=1.0->qiskit-machine-learning) (6.1.0)\n",
            "Requirement already satisfied: mpmath<1.4,>=1.1.0 in /usr/local/lib/python3.10/dist-packages (from sympy>=1.3->qiskit>=1.0->qiskit-machine-learning) (1.3.0)\n"
          ]
        }
      ]
    },
    {
      "cell_type": "code",
      "source": [
        "!pip install matplotlib\n"
      ],
      "metadata": {
        "colab": {
          "base_uri": "https://localhost:8080/"
        },
        "id": "mt-Zv7xgw8uq",
        "outputId": "15e2ea6c-616a-49b4-b18d-13576c8784e3"
      },
      "execution_count": null,
      "outputs": [
        {
          "output_type": "stream",
          "name": "stdout",
          "text": [
            "Requirement already satisfied: matplotlib in /usr/local/lib/python3.10/dist-packages (3.10.0)\n",
            "Requirement already satisfied: contourpy>=1.0.1 in /usr/local/lib/python3.10/dist-packages (from matplotlib) (1.3.1)\n",
            "Requirement already satisfied: cycler>=0.10 in /usr/local/lib/python3.10/dist-packages (from matplotlib) (0.12.1)\n",
            "Requirement already satisfied: fonttools>=4.22.0 in /usr/local/lib/python3.10/dist-packages (from matplotlib) (4.55.3)\n",
            "Requirement already satisfied: kiwisolver>=1.3.1 in /usr/local/lib/python3.10/dist-packages (from matplotlib) (1.4.7)\n",
            "Requirement already satisfied: numpy>=1.23 in /usr/local/lib/python3.10/dist-packages (from matplotlib) (2.0.2)\n",
            "Requirement already satisfied: packaging>=20.0 in /usr/local/lib/python3.10/dist-packages (from matplotlib) (24.2)\n",
            "Requirement already satisfied: pillow>=8 in /usr/local/lib/python3.10/dist-packages (from matplotlib) (11.0.0)\n",
            "Requirement already satisfied: pyparsing>=2.3.1 in /usr/local/lib/python3.10/dist-packages (from matplotlib) (3.2.0)\n",
            "Requirement already satisfied: python-dateutil>=2.7 in /usr/local/lib/python3.10/dist-packages (from matplotlib) (2.9.0.post0)\n",
            "Requirement already satisfied: six>=1.5 in /usr/local/lib/python3.10/dist-packages (from python-dateutil>=2.7->matplotlib) (1.17.0)\n"
          ]
        }
      ]
    },
    {
      "cell_type": "code",
      "source": [
        "!pip install --upgrade qiskit qiskit-terra"
      ],
      "metadata": {
        "colab": {
          "base_uri": "https://localhost:8080/",
          "height": 507
        },
        "id": "A2OpLGis6h_F",
        "outputId": "086efd03-7aab-44da-da84-1dcf452099e9"
      },
      "execution_count": null,
      "outputs": [
        {
          "output_type": "stream",
          "name": "stdout",
          "text": [
            "Requirement already satisfied: qiskit in /usr/local/lib/python3.10/dist-packages (1.3.1)\n",
            "Collecting qiskit-terra\n",
            "  Downloading qiskit_terra-0.46.3-cp38-abi3-manylinux_2_17_x86_64.manylinux2014_x86_64.whl.metadata (13 kB)\n",
            "Requirement already satisfied: rustworkx>=0.15.0 in /usr/local/lib/python3.10/dist-packages (from qiskit) (0.15.1)\n",
            "Requirement already satisfied: numpy<3,>=1.17 in /usr/local/lib/python3.10/dist-packages (from qiskit) (2.0.2)\n",
            "Requirement already satisfied: scipy>=1.5 in /usr/local/lib/python3.10/dist-packages (from qiskit) (1.13.1)\n",
            "Requirement already satisfied: sympy>=1.3 in /usr/local/lib/python3.10/dist-packages (from qiskit) (1.13.1)\n",
            "Requirement already satisfied: dill>=0.3 in /usr/local/lib/python3.10/dist-packages (from qiskit) (0.3.9)\n",
            "Requirement already satisfied: python-dateutil>=2.8.0 in /usr/local/lib/python3.10/dist-packages (from qiskit) (2.9.0.post0)\n",
            "Requirement already satisfied: stevedore>=3.0.0 in /usr/local/lib/python3.10/dist-packages (from qiskit) (5.4.0)\n",
            "Requirement already satisfied: typing-extensions in /usr/local/lib/python3.10/dist-packages (from qiskit) (4.5.0)\n",
            "Requirement already satisfied: symengine<0.14,>=0.11 in /usr/local/lib/python3.10/dist-packages (from qiskit) (0.13.0)\n",
            "Requirement already satisfied: ply>=3.10 in /usr/local/lib/python3.10/dist-packages (from qiskit-terra) (3.11)\n",
            "Requirement already satisfied: psutil>=5 in /usr/local/lib/python3.10/dist-packages (from qiskit-terra) (5.9.5)\n",
            "Requirement already satisfied: six>=1.5 in /usr/local/lib/python3.10/dist-packages (from python-dateutil>=2.8.0->qiskit) (1.17.0)\n",
            "Requirement already satisfied: pbr>=2.0.0 in /usr/local/lib/python3.10/dist-packages (from stevedore>=3.0.0->qiskit) (6.1.0)\n",
            "Requirement already satisfied: mpmath<1.4,>=1.1.0 in /usr/local/lib/python3.10/dist-packages (from sympy>=1.3->qiskit) (1.3.0)\n",
            "Downloading qiskit_terra-0.46.3-cp38-abi3-manylinux_2_17_x86_64.manylinux2014_x86_64.whl (5.4 MB)\n",
            "\u001b[2K   \u001b[90m━━━━━━━━━━━━━━━━━━━━━━━━━━━━━━━━━━━━━━━━\u001b[0m \u001b[32m5.4/5.4 MB\u001b[0m \u001b[31m31.9 MB/s\u001b[0m eta \u001b[36m0:00:00\u001b[0m\n",
            "\u001b[?25hInstalling collected packages: qiskit-terra\n",
            "Successfully installed qiskit-terra-0.46.3\n"
          ]
        },
        {
          "output_type": "display_data",
          "data": {
            "application/vnd.colab-display-data+json": {
              "pip_warning": {
                "packages": [
                  "qiskit"
                ]
              },
              "id": "5f03d8f56584489f8bcae596897cb2ef"
            }
          },
          "metadata": {}
        }
      ]
    },
    {
      "cell_type": "code",
      "source": [
        "!pip uninstall -y qiskit qiskit-machine-learning qiskit-terra\n"
      ],
      "metadata": {
        "colab": {
          "base_uri": "https://localhost:8080/"
        },
        "id": "TllQ75rQ6303",
        "outputId": "8a6b281f-cd7b-4c27-b037-3faf58d5d1e7"
      },
      "execution_count": null,
      "outputs": [
        {
          "output_type": "stream",
          "name": "stdout",
          "text": [
            "Found existing installation: qiskit 1.3.1\n",
            "Uninstalling qiskit-1.3.1:\n",
            "  Successfully uninstalled qiskit-1.3.1\n",
            "Found existing installation: qiskit-machine-learning 0.8.1\n",
            "Uninstalling qiskit-machine-learning-0.8.1:\n",
            "  Successfully uninstalled qiskit-machine-learning-0.8.1\n",
            "Found existing installation: qiskit-terra 0.46.3\n",
            "Uninstalling qiskit-terra-0.46.3:\n",
            "  Successfully uninstalled qiskit-terra-0.46.3\n"
          ]
        }
      ]
    },
    {
      "cell_type": "code",
      "source": [
        "!pip install 'qiskit>=1.0.0' 'qiskit-machine-learning>=0.8.0'\n"
      ],
      "metadata": {
        "colab": {
          "base_uri": "https://localhost:8080/",
          "height": 581
        },
        "id": "RcT_APa-65QS",
        "outputId": "c15e5804-28b1-4c90-e24b-e4d86647d1c5"
      },
      "execution_count": null,
      "outputs": [
        {
          "output_type": "stream",
          "name": "stdout",
          "text": [
            "Collecting qiskit>=1.0.0\n",
            "  Using cached qiskit-1.3.1-cp39-abi3-manylinux_2_17_x86_64.manylinux2014_x86_64.whl.metadata (12 kB)\n",
            "Collecting qiskit-machine-learning>=0.8.0\n",
            "  Using cached qiskit_machine_learning-0.8.1-py3-none-any.whl.metadata (13 kB)\n",
            "Requirement already satisfied: rustworkx>=0.15.0 in /usr/local/lib/python3.10/dist-packages (from qiskit>=1.0.0) (0.15.1)\n",
            "Requirement already satisfied: numpy<3,>=1.17 in /usr/local/lib/python3.10/dist-packages (from qiskit>=1.0.0) (2.0.2)\n",
            "Requirement already satisfied: scipy>=1.5 in /usr/local/lib/python3.10/dist-packages (from qiskit>=1.0.0) (1.13.1)\n",
            "Requirement already satisfied: sympy>=1.3 in /usr/local/lib/python3.10/dist-packages (from qiskit>=1.0.0) (1.13.1)\n",
            "Requirement already satisfied: dill>=0.3 in /usr/local/lib/python3.10/dist-packages (from qiskit>=1.0.0) (0.3.9)\n",
            "Requirement already satisfied: python-dateutil>=2.8.0 in /usr/local/lib/python3.10/dist-packages (from qiskit>=1.0.0) (2.9.0.post0)\n",
            "Requirement already satisfied: stevedore>=3.0.0 in /usr/local/lib/python3.10/dist-packages (from qiskit>=1.0.0) (5.4.0)\n",
            "Requirement already satisfied: typing-extensions in /usr/local/lib/python3.10/dist-packages (from qiskit>=1.0.0) (4.5.0)\n",
            "Requirement already satisfied: symengine<0.14,>=0.11 in /usr/local/lib/python3.10/dist-packages (from qiskit>=1.0.0) (0.13.0)\n",
            "Requirement already satisfied: psutil>=5 in /usr/local/lib/python3.10/dist-packages (from qiskit-machine-learning>=0.8.0) (5.9.5)\n",
            "Requirement already satisfied: scikit-learn>=1.2 in /usr/local/lib/python3.10/dist-packages (from qiskit-machine-learning>=0.8.0) (1.6.0)\n",
            "Requirement already satisfied: setuptools>=40.1 in /usr/local/lib/python3.10/dist-packages (from qiskit-machine-learning>=0.8.0) (75.1.0)\n",
            "Requirement already satisfied: six>=1.5 in /usr/local/lib/python3.10/dist-packages (from python-dateutil>=2.8.0->qiskit>=1.0.0) (1.17.0)\n",
            "Requirement already satisfied: joblib>=1.2.0 in /usr/local/lib/python3.10/dist-packages (from scikit-learn>=1.2->qiskit-machine-learning>=0.8.0) (1.4.2)\n",
            "Requirement already satisfied: threadpoolctl>=3.1.0 in /usr/local/lib/python3.10/dist-packages (from scikit-learn>=1.2->qiskit-machine-learning>=0.8.0) (3.5.0)\n",
            "Requirement already satisfied: pbr>=2.0.0 in /usr/local/lib/python3.10/dist-packages (from stevedore>=3.0.0->qiskit>=1.0.0) (6.1.0)\n",
            "Requirement already satisfied: mpmath<1.4,>=1.1.0 in /usr/local/lib/python3.10/dist-packages (from sympy>=1.3->qiskit>=1.0.0) (1.3.0)\n",
            "Using cached qiskit-1.3.1-cp39-abi3-manylinux_2_17_x86_64.manylinux2014_x86_64.whl (6.7 MB)\n",
            "Using cached qiskit_machine_learning-0.8.1-py3-none-any.whl (231 kB)\n",
            "Installing collected packages: qiskit, qiskit-machine-learning\n",
            "Successfully installed qiskit-1.3.1 qiskit-machine-learning-0.8.1\n"
          ]
        },
        {
          "output_type": "display_data",
          "data": {
            "application/vnd.colab-display-data+json": {
              "pip_warning": {
                "packages": [
                  "qiskit",
                  "qiskit_machine_learning"
                ]
              },
              "id": "ca7b4c7ae7c043a6bd31f4fb68bef5a9"
            }
          },
          "metadata": {}
        }
      ]
    },
    {
      "cell_type": "code",
      "source": [
        "!pip show pylatexenc\n",
        "!pip show qiskit\n"
      ],
      "metadata": {
        "colab": {
          "base_uri": "https://localhost:8080/"
        },
        "collapsed": true,
        "id": "dnLx9d_74X5j",
        "outputId": "ead6b338-683f-4db7-c834-f0952ba7c5b5"
      },
      "execution_count": null,
      "outputs": [
        {
          "output_type": "stream",
          "name": "stdout",
          "text": [
            "Name: pylatexenc\n",
            "Version: 2.10\n",
            "Summary: Simple LaTeX parser providing latex-to-unicode and unicode-to-latex conversion\n",
            "Home-page: https://github.com/phfaist/pylatexenc\n",
            "Author: Philippe Faist\n",
            "Author-email: philippe.faist@bluewin.ch\n",
            "License: MIT\n",
            "Location: /usr/local/lib/python3.10/dist-packages\n",
            "Requires: \n",
            "Required-by: \n",
            "Name: qiskit\n",
            "Version: 1.3.1\n",
            "Summary: An open-source SDK for working with quantum computers at the level of extended quantum circuits, operators, and primitives.\n",
            "Home-page: https://www.ibm.com/quantum/qiskit\n",
            "Author: \n",
            "Author-email: Qiskit Development Team <qiskit@us.ibm.com>\n",
            "License: Apache 2.0\n",
            "Location: /usr/local/lib/python3.10/dist-packages\n",
            "Requires: dill, numpy, python-dateutil, rustworkx, scipy, stevedore, symengine, sympy, typing-extensions\n",
            "Required-by: qiskit-algorithms, qiskit-machine-learning\n"
          ]
        }
      ]
    },
    {
      "cell_type": "code",
      "source": [
        "!pip install --force-reinstall matplotlib\n"
      ],
      "metadata": {
        "colab": {
          "base_uri": "https://localhost:8080/"
        },
        "collapsed": true,
        "id": "aSgQWaRd4jWw",
        "outputId": "7be34f74-46f0-4d76-eb77-5ad019f3beed"
      },
      "execution_count": null,
      "outputs": [
        {
          "output_type": "stream",
          "name": "stdout",
          "text": [
            "Collecting matplotlib\n",
            "  Using cached matplotlib-3.10.0-cp310-cp310-manylinux_2_17_x86_64.manylinux2014_x86_64.whl.metadata (11 kB)\n",
            "Collecting contourpy>=1.0.1 (from matplotlib)\n",
            "  Using cached contourpy-1.3.1-cp310-cp310-manylinux_2_17_x86_64.manylinux2014_x86_64.whl.metadata (5.4 kB)\n",
            "Collecting cycler>=0.10 (from matplotlib)\n",
            "  Using cached cycler-0.12.1-py3-none-any.whl.metadata (3.8 kB)\n",
            "Collecting fonttools>=4.22.0 (from matplotlib)\n",
            "  Using cached fonttools-4.55.3-cp310-cp310-manylinux_2_17_x86_64.manylinux2014_x86_64.whl.metadata (165 kB)\n",
            "Collecting kiwisolver>=1.3.1 (from matplotlib)\n",
            "  Using cached kiwisolver-1.4.7-cp310-cp310-manylinux_2_12_x86_64.manylinux2010_x86_64.whl.metadata (6.3 kB)\n",
            "Collecting numpy>=1.23 (from matplotlib)\n",
            "  Using cached numpy-2.2.0-cp310-cp310-manylinux_2_17_x86_64.manylinux2014_x86_64.whl.metadata (62 kB)\n",
            "Collecting packaging>=20.0 (from matplotlib)\n",
            "  Using cached packaging-24.2-py3-none-any.whl.metadata (3.2 kB)\n",
            "Collecting pillow>=8 (from matplotlib)\n",
            "  Using cached pillow-11.0.0-cp310-cp310-manylinux_2_28_x86_64.whl.metadata (9.1 kB)\n",
            "Collecting pyparsing>=2.3.1 (from matplotlib)\n",
            "  Using cached pyparsing-3.2.0-py3-none-any.whl.metadata (5.0 kB)\n",
            "Collecting python-dateutil>=2.7 (from matplotlib)\n",
            "  Using cached python_dateutil-2.9.0.post0-py2.py3-none-any.whl.metadata (8.4 kB)\n",
            "Collecting six>=1.5 (from python-dateutil>=2.7->matplotlib)\n",
            "  Using cached six-1.17.0-py2.py3-none-any.whl.metadata (1.7 kB)\n",
            "Using cached matplotlib-3.10.0-cp310-cp310-manylinux_2_17_x86_64.manylinux2014_x86_64.whl (8.6 MB)\n",
            "Using cached contourpy-1.3.1-cp310-cp310-manylinux_2_17_x86_64.manylinux2014_x86_64.whl (324 kB)\n",
            "Using cached cycler-0.12.1-py3-none-any.whl (8.3 kB)\n",
            "Using cached fonttools-4.55.3-cp310-cp310-manylinux_2_17_x86_64.manylinux2014_x86_64.whl (4.6 MB)\n",
            "Using cached kiwisolver-1.4.7-cp310-cp310-manylinux_2_12_x86_64.manylinux2010_x86_64.whl (1.6 MB)\n",
            "Using cached numpy-2.2.0-cp310-cp310-manylinux_2_17_x86_64.manylinux2014_x86_64.whl (16.4 MB)\n",
            "Using cached packaging-24.2-py3-none-any.whl (65 kB)\n",
            "Using cached pillow-11.0.0-cp310-cp310-manylinux_2_28_x86_64.whl (4.4 MB)\n",
            "Using cached pyparsing-3.2.0-py3-none-any.whl (106 kB)\n",
            "Using cached python_dateutil-2.9.0.post0-py2.py3-none-any.whl (229 kB)\n",
            "Using cached six-1.17.0-py2.py3-none-any.whl (11 kB)\n",
            "Installing collected packages: six, pyparsing, pillow, packaging, numpy, kiwisolver, fonttools, cycler, python-dateutil, contourpy, matplotlib\n",
            "  Attempting uninstall: six\n",
            "    Found existing installation: six 1.17.0\n",
            "    Uninstalling six-1.17.0:\n",
            "      Successfully uninstalled six-1.17.0\n",
            "  Attempting uninstall: pyparsing\n",
            "    Found existing installation: pyparsing 3.2.0\n",
            "    Uninstalling pyparsing-3.2.0:\n",
            "      Successfully uninstalled pyparsing-3.2.0\n",
            "  Attempting uninstall: pillow\n",
            "    Found existing installation: pillow 11.0.0\n",
            "    Uninstalling pillow-11.0.0:\n",
            "      Successfully uninstalled pillow-11.0.0\n",
            "  Attempting uninstall: packaging\n",
            "    Found existing installation: packaging 24.2\n",
            "    Uninstalling packaging-24.2:\n",
            "      Successfully uninstalled packaging-24.2\n",
            "  Attempting uninstall: numpy\n",
            "    Found existing installation: numpy 2.0.2\n",
            "    Uninstalling numpy-2.0.2:\n",
            "      Successfully uninstalled numpy-2.0.2\n",
            "  Attempting uninstall: kiwisolver\n",
            "    Found existing installation: kiwisolver 1.4.7\n",
            "    Uninstalling kiwisolver-1.4.7:\n",
            "      Successfully uninstalled kiwisolver-1.4.7\n",
            "  Attempting uninstall: fonttools\n",
            "    Found existing installation: fonttools 4.55.3\n",
            "    Uninstalling fonttools-4.55.3:\n",
            "      Successfully uninstalled fonttools-4.55.3\n",
            "  Attempting uninstall: cycler\n",
            "    Found existing installation: cycler 0.12.1\n",
            "    Uninstalling cycler-0.12.1:\n",
            "      Successfully uninstalled cycler-0.12.1\n",
            "  Attempting uninstall: python-dateutil\n",
            "    Found existing installation: python-dateutil 2.9.0.post0\n",
            "    Uninstalling python-dateutil-2.9.0.post0:\n",
            "      Successfully uninstalled python-dateutil-2.9.0.post0\n",
            "  Attempting uninstall: contourpy\n",
            "    Found existing installation: contourpy 1.3.1\n",
            "    Uninstalling contourpy-1.3.1:\n",
            "      Successfully uninstalled contourpy-1.3.1\n",
            "  Attempting uninstall: matplotlib\n",
            "    Found existing installation: matplotlib 3.10.0\n",
            "    Uninstalling matplotlib-3.10.0:\n",
            "      Successfully uninstalled matplotlib-3.10.0\n",
            "\u001b[31mERROR: pip's dependency resolver does not currently take into account all the packages that are installed. This behaviour is the source of the following dependency conflicts.\n",
            "altair 5.5.0 requires typing-extensions>=4.10.0; python_version < \"3.14\", but you have typing-extensions 4.5.0 which is incompatible.\n",
            "cupy-cuda12x 12.2.0 requires numpy<1.27,>=1.20, but you have numpy 2.2.0 which is incompatible.\n",
            "gensim 4.3.3 requires numpy<2.0,>=1.18.5, but you have numpy 2.2.0 which is incompatible.\n",
            "langchain 0.3.12 requires numpy<2,>=1.22.4; python_version < \"3.12\", but you have numpy 2.2.0 which is incompatible.\n",
            "langchain-core 0.3.25 requires typing-extensions>=4.7, but you have typing-extensions 4.5.0 which is incompatible.\n",
            "nibabel 5.3.2 requires typing-extensions>=4.6; python_version < \"3.13\", but you have typing-extensions 4.5.0 which is incompatible.\n",
            "numba 0.60.0 requires numpy<2.1,>=1.22, but you have numpy 2.2.0 which is incompatible.\n",
            "pytensor 2.26.4 requires numpy<2,>=1.17.0, but you have numpy 2.2.0 which is incompatible.\n",
            "tensorflow 2.18.0 requires numpy<2.1.0,>=1.26.0, but you have numpy 2.2.0 which is incompatible.\n",
            "tf-keras 2.17.0 requires tensorflow<2.18,>=2.17, but you have tensorflow 2.18.0 which is incompatible.\n",
            "thinc 8.2.5 requires numpy<2.0.0,>=1.19.0; python_version >= \"3.9\", but you have numpy 2.2.0 which is incompatible.\u001b[0m\u001b[31m\n",
            "\u001b[0mSuccessfully installed contourpy-1.3.1 cycler-0.12.1 fonttools-4.55.3 kiwisolver-1.4.7 matplotlib-3.10.0 numpy-2.2.0 packaging-24.2 pillow-11.0.0 pyparsing-3.2.0 python-dateutil-2.9.0.post0 six-1.17.0\n"
          ]
        },
        {
          "output_type": "display_data",
          "data": {
            "application/vnd.colab-display-data+json": {
              "pip_warning": {
                "packages": [
                  "PIL",
                  "cycler",
                  "dateutil",
                  "kiwisolver",
                  "six"
                ]
              },
              "id": "cc7ccb04cabe4219998ced5161332de5"
            }
          },
          "metadata": {}
        }
      ]
    },
    {
      "cell_type": "code",
      "execution_count": null,
      "metadata": {
        "id": "Z0pY6l-_riiN"
      },
      "outputs": [],
      "source": [
        "# 필요한 라이브러리 임포트\n",
        "import numpy as np\n",
        "from qiskit import QuantumCircuit\n",
        "from qiskit.circuit.library import ZZFeatureMap, RealAmplitudes\n",
        "from qiskit_machine_learning.neural_networks import EstimatorQNN\n",
        "from qiskit_machine_learning.algorithms import NeuralNetworkClassifier\n",
        "from qiskit_algorithms.optimizers import COBYLA\n",
        "from tensorflow.keras.datasets import mnist\n",
        "from sklearn.preprocessing import MinMaxScaler\n"
      ]
    },
    {
      "cell_type": "code",
      "source": [
        "# MNIST 데이터셋 로드\n",
        "(x_train, y_train), (x_test, y_test) = mnist.load_data()"
      ],
      "metadata": {
        "id": "28IlTl3ftmiR"
      },
      "execution_count": null,
      "outputs": []
    },
    {
      "cell_type": "code",
      "source": [
        "# 데이터 전처리\n",
        "x_train = x_train.reshape(60000, 784).astype('float32') / 255\n",
        "x_test = x_test.reshape(10000, 784).astype('float32') / 255"
      ],
      "metadata": {
        "id": "KEA-61t-tnpB"
      },
      "execution_count": null,
      "outputs": []
    },
    {
      "cell_type": "code",
      "source": [
        "# 0과 1만 선택\n",
        "mask_train = (y_train == 0) | (y_train == 1)\n",
        "x_train = x_train[mask_train]\n",
        "y_train = y_train[mask_train]\n",
        "\n",
        "mask_test = (y_test == 0) | (y_test == 1)\n",
        "x_test = x_test[mask_test]\n",
        "y_test = y_test[mask_test]"
      ],
      "metadata": {
        "id": "wxFonAp5uPPi"
      },
      "execution_count": null,
      "outputs": []
    },
    {
      "cell_type": "code",
      "source": [
        "# 데이터 축소 (계산 시간 단축을 위해)\n",
        "x_train = x_train[:1000]\n",
        "y_train = y_train[:1000]\n",
        "x_test = x_test[:100]\n",
        "y_test = y_test[:100]"
      ],
      "metadata": {
        "id": "c9790eF9tptA"
      },
      "execution_count": null,
      "outputs": []
    },
    {
      "cell_type": "code",
      "source": [
        "# 특성 선택 (8개만 사용)\n",
        "x_train = x_train[:, :32]\n",
        "x_test = x_test[:, :32]"
      ],
      "metadata": {
        "id": "dVEIX8WRtq-M"
      },
      "execution_count": null,
      "outputs": []
    },
    {
      "cell_type": "code",
      "source": [
        "from qiskit.circuit import ParameterVector\n",
        "from qiskit import QuantumCircuit\n",
        "# 특성 선택 (8개만 사용)\n",
        "num_features = 32  # 특성 수와 동일하게 설정\n",
        "num_qubits = num_features  # 큐빗 수는 특성과 동일\n",
        "phi = ParameterVector(\"phi\", num_qubits)"
      ],
      "metadata": {
        "id": "DuArRvKytsUS"
      },
      "execution_count": null,
      "outputs": []
    },
    {
      "cell_type": "code",
      "source": [
        "theta = ParameterVector(\"θ\", num_features)"
      ],
      "metadata": {
        "id": "5UN2HqDo9aOO"
      },
      "execution_count": null,
      "outputs": []
    },
    {
      "cell_type": "code",
      "source": [
        "# Feature Map (특징 맵 설계)\n",
        "feature_map = QuantumCircuit(num_qubits)\n",
        "for i in range(num_qubits):\n",
        "    feature_map.ry(theta[i], i)"
      ],
      "metadata": {
        "id": "NpuFNdUrttl_"
      },
      "execution_count": null,
      "outputs": []
    },
    {
      "cell_type": "code",
      "source": [
        "# Ansatz (가변 회로 설계)\n",
        "ansatz = QuantumCircuit(num_qubits)\n",
        "for i in range(num_qubits):\n",
        "    ansatz.rz(phi[i], i)"
      ],
      "metadata": {
        "id": "7UUjw_1Utuqc"
      },
      "execution_count": null,
      "outputs": []
    },
    {
      "cell_type": "code",
      "source": [
        "if num_qubits > 1:\n",
        "    for i in range(num_qubits - 1):\n",
        "        ansatz.cx(i, i + 1)"
      ],
      "metadata": {
        "id": "gry73oar91ZN"
      },
      "execution_count": null,
      "outputs": []
    },
    {
      "cell_type": "code",
      "source": [
        "# 전체 양자 회로 구성\n",
        "qc = QuantumCircuit(num_qubits)\n",
        "qc.compose(feature_map, inplace=True)\n",
        "qc.compose(ansatz, inplace=True)"
      ],
      "metadata": {
        "id": "qWJ8kAdhtwqk"
      },
      "execution_count": null,
      "outputs": []
    },
    {
      "cell_type": "code",
      "source": [
        "\n",
        "# QNN 생성\n",
        "qnn = EstimatorQNN(\n",
        "    circuit=qc,\n",
        "    input_params=feature_map.parameters,\n",
        "    weight_params=ansatz.parameters\n",
        ")\n"
      ],
      "metadata": {
        "colab": {
          "base_uri": "https://localhost:8080/"
        },
        "id": "PpEmZRK7sObT",
        "outputId": "b633a641-dd12-4540-92ac-a75493e967ed"
      },
      "execution_count": null,
      "outputs": [
        {
          "output_type": "stream",
          "name": "stderr",
          "text": [
            "<ipython-input-15-7e7349539504>:2: DeprecationWarning: V1 Primitives are deprecated as of qiskit-machine-learning 0.8.0 and will be removed no sooner than 4 months after the release date. Use V2 primitives for continued compatibility and support.\n",
            "  qnn = EstimatorQNN(\n"
          ]
        }
      ]
    },
    {
      "cell_type": "code",
      "source": [
        "print(qc)"
      ],
      "metadata": {
        "colab": {
          "base_uri": "https://localhost:8080/"
        },
        "id": "9HWJMGCexnJk",
        "outputId": "986aaca2-43c2-4587-a2c8-6627365ed109"
      },
      "execution_count": null,
      "outputs": [
        {
          "output_type": "stream",
          "name": "stdout",
          "text": [
            "       ┌──────────┐ ┌────────────┐                                             »\n",
            " q_0: ─┤ Ry(θ[0]) ├─┤ Rz(phi[0]) ├──■──────────────────────────────────────────»\n",
            "       ├──────────┤ ├────────────┤┌─┴─┐                                        »\n",
            " q_1: ─┤ Ry(θ[1]) ├─┤ Rz(phi[1]) ├┤ X ├──■─────────────────────────────────────»\n",
            "       ├──────────┤ ├────────────┤└───┘┌─┴─┐                                   »\n",
            " q_2: ─┤ Ry(θ[2]) ├─┤ Rz(phi[2]) ├─────┤ X ├──■────────────────────────────────»\n",
            "       ├──────────┤ ├────────────┤     └───┘┌─┴─┐                              »\n",
            " q_3: ─┤ Ry(θ[3]) ├─┤ Rz(phi[3]) ├──────────┤ X ├──■───────────────────────────»\n",
            "       ├──────────┤ ├────────────┤          └───┘┌─┴─┐                         »\n",
            " q_4: ─┤ Ry(θ[4]) ├─┤ Rz(phi[4]) ├───────────────┤ X ├──■──────────────────────»\n",
            "       ├──────────┤ ├────────────┤               └───┘┌─┴─┐                    »\n",
            " q_5: ─┤ Ry(θ[5]) ├─┤ Rz(phi[5]) ├────────────────────┤ X ├──■─────────────────»\n",
            "       ├──────────┤ ├────────────┤                    └───┘┌─┴─┐               »\n",
            " q_6: ─┤ Ry(θ[6]) ├─┤ Rz(phi[6]) ├─────────────────────────┤ X ├──■────────────»\n",
            "       ├──────────┤ ├────────────┤                         └───┘┌─┴─┐          »\n",
            " q_7: ─┤ Ry(θ[7]) ├─┤ Rz(phi[7]) ├──────────────────────────────┤ X ├──■───────»\n",
            "       ├──────────┤ ├────────────┤                              └───┘┌─┴─┐     »\n",
            " q_8: ─┤ Ry(θ[8]) ├─┤ Rz(phi[8]) ├───────────────────────────────────┤ X ├──■──»\n",
            "       ├──────────┤ ├────────────┤                                   └───┘┌─┴─┐»\n",
            " q_9: ─┤ Ry(θ[9]) ├─┤ Rz(phi[9]) ├────────────────────────────────────────┤ X ├»\n",
            "      ┌┴──────────┤┌┴────────────┤                                        └───┘»\n",
            "q_10: ┤ Ry(θ[10]) ├┤ Rz(phi[10]) ├─────────────────────────────────────────────»\n",
            "      ├───────────┤├─────────────┤                                             »\n",
            "q_11: ┤ Ry(θ[11]) ├┤ Rz(phi[11]) ├─────────────────────────────────────────────»\n",
            "      ├───────────┤├─────────────┤                                             »\n",
            "q_12: ┤ Ry(θ[12]) ├┤ Rz(phi[12]) ├─────────────────────────────────────────────»\n",
            "      ├───────────┤├─────────────┤                                             »\n",
            "q_13: ┤ Ry(θ[13]) ├┤ Rz(phi[13]) ├─────────────────────────────────────────────»\n",
            "      ├───────────┤├─────────────┤                                             »\n",
            "q_14: ┤ Ry(θ[14]) ├┤ Rz(phi[14]) ├─────────────────────────────────────────────»\n",
            "      ├───────────┤├─────────────┤                                             »\n",
            "q_15: ┤ Ry(θ[15]) ├┤ Rz(phi[15]) ├─────────────────────────────────────────────»\n",
            "      ├───────────┤├─────────────┤                                             »\n",
            "q_16: ┤ Ry(θ[16]) ├┤ Rz(phi[16]) ├─────────────────────────────────────────────»\n",
            "      ├───────────┤├─────────────┤                                             »\n",
            "q_17: ┤ Ry(θ[17]) ├┤ Rz(phi[17]) ├─────────────────────────────────────────────»\n",
            "      ├───────────┤├─────────────┤                                             »\n",
            "q_18: ┤ Ry(θ[18]) ├┤ Rz(phi[18]) ├─────────────────────────────────────────────»\n",
            "      ├───────────┤├─────────────┤                                             »\n",
            "q_19: ┤ Ry(θ[19]) ├┤ Rz(phi[19]) ├─────────────────────────────────────────────»\n",
            "      ├───────────┤├─────────────┤                                             »\n",
            "q_20: ┤ Ry(θ[20]) ├┤ Rz(phi[20]) ├─────────────────────────────────────────────»\n",
            "      ├───────────┤├─────────────┤                                             »\n",
            "q_21: ┤ Ry(θ[21]) ├┤ Rz(phi[21]) ├─────────────────────────────────────────────»\n",
            "      ├───────────┤├─────────────┤                                             »\n",
            "q_22: ┤ Ry(θ[22]) ├┤ Rz(phi[22]) ├─────────────────────────────────────────────»\n",
            "      ├───────────┤├─────────────┤                                             »\n",
            "q_23: ┤ Ry(θ[23]) ├┤ Rz(phi[23]) ├─────────────────────────────────────────────»\n",
            "      ├───────────┤├─────────────┤                                             »\n",
            "q_24: ┤ Ry(θ[24]) ├┤ Rz(phi[24]) ├─────────────────────────────────────────────»\n",
            "      ├───────────┤├─────────────┤                                             »\n",
            "q_25: ┤ Ry(θ[25]) ├┤ Rz(phi[25]) ├─────────────────────────────────────────────»\n",
            "      ├───────────┤├─────────────┤                                             »\n",
            "q_26: ┤ Ry(θ[26]) ├┤ Rz(phi[26]) ├─────────────────────────────────────────────»\n",
            "      ├───────────┤├─────────────┤                                             »\n",
            "q_27: ┤ Ry(θ[27]) ├┤ Rz(phi[27]) ├─────────────────────────────────────────────»\n",
            "      ├───────────┤├─────────────┤                                             »\n",
            "q_28: ┤ Ry(θ[28]) ├┤ Rz(phi[28]) ├─────────────────────────────────────────────»\n",
            "      ├───────────┤├─────────────┤                                             »\n",
            "q_29: ┤ Ry(θ[29]) ├┤ Rz(phi[29]) ├─────────────────────────────────────────────»\n",
            "      ├───────────┤├─────────────┤                                             »\n",
            "q_30: ┤ Ry(θ[30]) ├┤ Rz(phi[30]) ├─────────────────────────────────────────────»\n",
            "      ├───────────┤├─────────────┤                                             »\n",
            "q_31: ┤ Ry(θ[31]) ├┤ Rz(phi[31]) ├─────────────────────────────────────────────»\n",
            "      └───────────┘└─────────────┘                                             »\n",
            "«                                                                            »\n",
            "« q_0: ──────────────────────────────────────────────────────────────────────»\n",
            "«                                                                            »\n",
            "« q_1: ──────────────────────────────────────────────────────────────────────»\n",
            "«                                                                            »\n",
            "« q_2: ──────────────────────────────────────────────────────────────────────»\n",
            "«                                                                            »\n",
            "« q_3: ──────────────────────────────────────────────────────────────────────»\n",
            "«                                                                            »\n",
            "« q_4: ──────────────────────────────────────────────────────────────────────»\n",
            "«                                                                            »\n",
            "« q_5: ──────────────────────────────────────────────────────────────────────»\n",
            "«                                                                            »\n",
            "« q_6: ──────────────────────────────────────────────────────────────────────»\n",
            "«                                                                            »\n",
            "« q_7: ──────────────────────────────────────────────────────────────────────»\n",
            "«                                                                            »\n",
            "« q_8: ──────────────────────────────────────────────────────────────────────»\n",
            "«                                                                            »\n",
            "« q_9: ──■───────────────────────────────────────────────────────────────────»\n",
            "«      ┌─┴─┐                                                                 »\n",
            "«q_10: ┤ X ├──■──────────────────────────────────────────────────────────────»\n",
            "«      └───┘┌─┴─┐                                                            »\n",
            "«q_11: ─────┤ X ├──■─────────────────────────────────────────────────────────»\n",
            "«           └───┘┌─┴─┐                                                       »\n",
            "«q_12: ──────────┤ X ├──■────────────────────────────────────────────────────»\n",
            "«                └───┘┌─┴─┐                                                  »\n",
            "«q_13: ───────────────┤ X ├──■───────────────────────────────────────────────»\n",
            "«                     └───┘┌─┴─┐                                             »\n",
            "«q_14: ────────────────────┤ X ├──■──────────────────────────────────────────»\n",
            "«                          └───┘┌─┴─┐                                        »\n",
            "«q_15: ─────────────────────────┤ X ├──■─────────────────────────────────────»\n",
            "«                               └───┘┌─┴─┐                                   »\n",
            "«q_16: ──────────────────────────────┤ X ├──■────────────────────────────────»\n",
            "«                                    └───┘┌─┴─┐                              »\n",
            "«q_17: ───────────────────────────────────┤ X ├──■───────────────────────────»\n",
            "«                                         └───┘┌─┴─┐                         »\n",
            "«q_18: ────────────────────────────────────────┤ X ├──■──────────────────────»\n",
            "«                                              └───┘┌─┴─┐                    »\n",
            "«q_19: ─────────────────────────────────────────────┤ X ├──■─────────────────»\n",
            "«                                                   └───┘┌─┴─┐               »\n",
            "«q_20: ──────────────────────────────────────────────────┤ X ├──■────────────»\n",
            "«                                                        └───┘┌─┴─┐          »\n",
            "«q_21: ───────────────────────────────────────────────────────┤ X ├──■───────»\n",
            "«                                                             └───┘┌─┴─┐     »\n",
            "«q_22: ────────────────────────────────────────────────────────────┤ X ├──■──»\n",
            "«                                                                  └───┘┌─┴─┐»\n",
            "«q_23: ─────────────────────────────────────────────────────────────────┤ X ├»\n",
            "«                                                                       └───┘»\n",
            "«q_24: ──────────────────────────────────────────────────────────────────────»\n",
            "«                                                                            »\n",
            "«q_25: ──────────────────────────────────────────────────────────────────────»\n",
            "«                                                                            »\n",
            "«q_26: ──────────────────────────────────────────────────────────────────────»\n",
            "«                                                                            »\n",
            "«q_27: ──────────────────────────────────────────────────────────────────────»\n",
            "«                                                                            »\n",
            "«q_28: ──────────────────────────────────────────────────────────────────────»\n",
            "«                                                                            »\n",
            "«q_29: ──────────────────────────────────────────────────────────────────────»\n",
            "«                                                                            »\n",
            "«q_30: ──────────────────────────────────────────────────────────────────────»\n",
            "«                                                                            »\n",
            "«q_31: ──────────────────────────────────────────────────────────────────────»\n",
            "«                                                                            »\n",
            "«                                              \n",
            "« q_0: ────────────────────────────────────────\n",
            "«                                              \n",
            "« q_1: ────────────────────────────────────────\n",
            "«                                              \n",
            "« q_2: ────────────────────────────────────────\n",
            "«                                              \n",
            "« q_3: ────────────────────────────────────────\n",
            "«                                              \n",
            "« q_4: ────────────────────────────────────────\n",
            "«                                              \n",
            "« q_5: ────────────────────────────────────────\n",
            "«                                              \n",
            "« q_6: ────────────────────────────────────────\n",
            "«                                              \n",
            "« q_7: ────────────────────────────────────────\n",
            "«                                              \n",
            "« q_8: ────────────────────────────────────────\n",
            "«                                              \n",
            "« q_9: ────────────────────────────────────────\n",
            "«                                              \n",
            "«q_10: ────────────────────────────────────────\n",
            "«                                              \n",
            "«q_11: ────────────────────────────────────────\n",
            "«                                              \n",
            "«q_12: ────────────────────────────────────────\n",
            "«                                              \n",
            "«q_13: ────────────────────────────────────────\n",
            "«                                              \n",
            "«q_14: ────────────────────────────────────────\n",
            "«                                              \n",
            "«q_15: ────────────────────────────────────────\n",
            "«                                              \n",
            "«q_16: ────────────────────────────────────────\n",
            "«                                              \n",
            "«q_17: ────────────────────────────────────────\n",
            "«                                              \n",
            "«q_18: ────────────────────────────────────────\n",
            "«                                              \n",
            "«q_19: ────────────────────────────────────────\n",
            "«                                              \n",
            "«q_20: ────────────────────────────────────────\n",
            "«                                              \n",
            "«q_21: ────────────────────────────────────────\n",
            "«                                              \n",
            "«q_22: ────────────────────────────────────────\n",
            "«                                              \n",
            "«q_23: ──■─────────────────────────────────────\n",
            "«      ┌─┴─┐                                   \n",
            "«q_24: ┤ X ├──■────────────────────────────────\n",
            "«      └───┘┌─┴─┐                              \n",
            "«q_25: ─────┤ X ├──■───────────────────────────\n",
            "«           └───┘┌─┴─┐                         \n",
            "«q_26: ──────────┤ X ├──■──────────────────────\n",
            "«                └───┘┌─┴─┐                    \n",
            "«q_27: ───────────────┤ X ├──■─────────────────\n",
            "«                     └───┘┌─┴─┐               \n",
            "«q_28: ────────────────────┤ X ├──■────────────\n",
            "«                          └───┘┌─┴─┐          \n",
            "«q_29: ─────────────────────────┤ X ├──■───────\n",
            "«                               └───┘┌─┴─┐     \n",
            "«q_30: ──────────────────────────────┤ X ├──■──\n",
            "«                                    └───┘┌─┴─┐\n",
            "«q_31: ───────────────────────────────────┤ X ├\n",
            "«                                         └───┘\n"
          ]
        }
      ]
    },
    {
      "cell_type": "code",
      "source": [
        "# 분류기 생성\n",
        "optimizer = COBYLA(maxiter=100)\n",
        "classifier = NeuralNetworkClassifier(\n",
        "    neural_network=qnn,\n",
        "    optimizer=optimizer,\n",
        "    callback=lambda weights, value: None  # Changed the callback function\n",
        ")"
      ],
      "metadata": {
        "id": "upeBcxK0tzm_"
      },
      "execution_count": null,
      "outputs": []
    },
    {
      "cell_type": "code",
      "source": [
        "# 모델 학습\n",
        "classifier.fit(x_train, y_train)\n",
        "\n",
        "# 모델 평가\n",
        "score = classifier.score(x_test, y_test)\n",
        "print(f\"Test accuracy: {score}\")"
      ],
      "metadata": {
        "id": "3b6mckR8t0m9"
      },
      "execution_count": null,
      "outputs": []
    },
    {
      "cell_type": "code",
      "source": [
        "import time\n",
        "from sklearn.metrics import accuracy_score\n",
        "\n",
        "# 학습 시간 측정\n",
        "start_time = time.time()\n",
        "classifier.fit(x_train, y_train)\n",
        "end_time = time.time()\n",
        "training_time = end_time - start_time\n",
        "\n",
        "print(f\"학습 시간: {training_time:.2f} 초\")\n",
        "\n",
        "# 추론 시간 측정\n",
        "start_time = time.time()\n",
        "y_pred = classifier.predict(x_test)\n",
        "end_time = time.time()\n",
        "inference_time = end_time - start_time\n",
        "\n",
        "print(f\"추론 시간: {inference_time:.2f} 초\")\n",
        "\n",
        "# 정확도 계산\n",
        "accuracy = accuracy_score(y_test, y_pred)\n",
        "print(f\"정확도: {accuracy:.2f}\")\n",
        "\n",
        "# 샘플당 평균 추론 시간 계산\n",
        "avg_inference_time = inference_time / len(x_test)\n",
        "print(f\"샘플당 평균 추론 시간: {avg_inference_time:.4f} 초\")\n"
      ],
      "metadata": {
        "id": "EjvC58W5BT2V"
      },
      "execution_count": null,
      "outputs": []
    },
    {
      "cell_type": "code",
      "source": [
        "import numpy as np\n",
        "import matplotlib.pyplot as plt\n",
        "from random import randint\n",
        "\n",
        "# 원본 MNIST 데이터 로드 (시각화용)\n",
        "(x_train_full, y_train), (x_test_full, y_test) = mnist.load_data()\n",
        "x_test_full = x_test_full.astype('float32') / 255\n",
        "\n",
        "def add_gaussian_noise(image, std_dev):\n",
        "    noise = np.random.normal(0, std_dev, image.shape)\n",
        "    noisy_image = image + noise\n",
        "    return np.clip(noisy_image, 0, 1)\n",
        "\n",
        "def show_image(image):\n",
        "    plt.imshow(image, cmap='gray')\n",
        "    plt.axis('off')\n",
        "    plt.show()\n",
        "\n",
        "# 랜덤 테스트\n",
        "num_iterations = 20\n",
        "matched_count = 0\n",
        "\n",
        "for _ in range(num_iterations):\n",
        "    # 랜덤 이미지 선택\n",
        "    i = randint(0, len(x_test)-1)\n",
        "\n",
        "    # 전체 이미지는 시각화용으로 사용\n",
        "    full_image = x_test_full[i]\n",
        "    # 8개 특성만 있는 데이터는 예측용으로 사용\n",
        "    reduced_image = x_test[i]\n",
        "    label = y_test[i]\n",
        "\n",
        "    # 노이즈 추가 (전체 이미지에)\n",
        "    noisy_full_image = add_gaussian_noise(full_image, 0.15)\n",
        "    # 8개 특성에 대해서도 노이즈 추가\n",
        "    noisy_reduced = noisy_full_image.reshape(-1)[:8]\n",
        "\n",
        "    # 시각화\n",
        "    print(f\"Original Label: {label} (숫자 {label})\")\n",
        "    show_image(full_image)\n",
        "    show_image(noisy_full_image)\n",
        "\n",
        "    # 예측 수행 (8개 특성만 사용)\n",
        "    prediction = classifier.predict([noisy_reduced])\n",
        "    print(f\"Predicted Class: {prediction[0]} (숫자 {prediction[0]})\\n\")\n",
        "\n",
        "    if prediction[0] == label:\n",
        "        matched_count += 1\n",
        "\n",
        "print(f\"노이즈 데이터 정확도: {matched_count/num_iterations:.2f}\")\n"
      ],
      "metadata": {
        "id": "ZbbtL0NLHeE_"
      },
      "execution_count": null,
      "outputs": []
    }
  ]
}
